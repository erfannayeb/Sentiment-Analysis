{
  "nbformat": 4,
  "nbformat_minor": 0,
  "metadata": {
    "colab": {
      "provenance": []
    },
    "kernelspec": {
      "name": "python3",
      "display_name": "Python 3"
    },
    "language_info": {
      "name": "python"
    }
  },
  "cells": [
    {
      "cell_type": "markdown",
      "source": [
        "## **Sentiment Analysis**"
      ],
      "metadata": {
        "id": "Nq5JqCrJ_T-W"
      }
    },
    {
      "cell_type": "code",
      "execution_count": 3,
      "metadata": {
        "id": "XsKLYp1Z8oAT"
      },
      "outputs": [],
      "source": [
        "import numpy as np\n",
        "import pandas as pd\n",
        "import json\n",
        "from sklearn.model_selection import train_test_split\n",
        "from matplotlib import pyplot"
      ]
    },
    {
      "cell_type": "code",
      "source": [
        "import tensorflow as tf\n",
        "from tensorflow import keras\n",
        "from keras.models import Sequential\n",
        "from tensorflow.keras.preprocessing.text import Tokenizer\n",
        "from tensorflow.keras.preprocessing.sequence import pad_sequences\n",
        "from keras.layers import Dense, Embedding, LSTM, Dropout, Conv1D, MaxPooling1D"
      ],
      "metadata": {
        "id": "wqBwNrC480Wn"
      },
      "execution_count": 5,
      "outputs": []
    },
    {
      "cell_type": "markdown",
      "source": [
        "**Read Data**"
      ],
      "metadata": {
        "id": "spI4U8HO_blO"
      }
    },
    {
      "cell_type": "code",
      "source": [
        "with open('dataset.json',encoding='utf-8-sig', errors='ignore') as file:\n",
        "    json_file = json.load(file)"
      ],
      "metadata": {
        "id": "DSP0ohFU89go"
      },
      "execution_count": 6,
      "outputs": []
    },
    {
      "cell_type": "code",
      "source": [
        "data = pd.DataFrame(json_file)\n",
        "data.head()"
      ],
      "metadata": {
        "colab": {
          "base_uri": "https://localhost:8080/",
          "height": 206
        },
        "id": "ydlL6y7hCUZo",
        "outputId": "fcc058d5-df88-482c-c6e1-f18978ddad42"
      },
      "execution_count": 7,
      "outputs": [
        {
          "output_type": "execute_result",
          "data": {
            "text/plain": [
              "                                             comment  sentiment\n",
              "0  باید کلی بشوری تا از روی صورت پاک بشه بویه ملا...          1\n",
              "1            خوبه ولی روی موهای من تاثیر زیادی نداشت          0\n",
              "2                          نخرید رنگش در میاد به دست          1\n",
              "3  بوی خوبی داره و خوب تمیز میکنه ولی اسکراب قوی ...          0\n",
              "4  هفته پیش گرفتم.ظاهرش خیلی خوبه ولی بعده ۴ ۵ رو...          1"
            ],
            "text/html": [
              "\n",
              "  <div id=\"df-918861e3-8ab6-4875-b493-c960c6851717\">\n",
              "    <div class=\"colab-df-container\">\n",
              "      <div>\n",
              "<style scoped>\n",
              "    .dataframe tbody tr th:only-of-type {\n",
              "        vertical-align: middle;\n",
              "    }\n",
              "\n",
              "    .dataframe tbody tr th {\n",
              "        vertical-align: top;\n",
              "    }\n",
              "\n",
              "    .dataframe thead th {\n",
              "        text-align: right;\n",
              "    }\n",
              "</style>\n",
              "<table border=\"1\" class=\"dataframe\">\n",
              "  <thead>\n",
              "    <tr style=\"text-align: right;\">\n",
              "      <th></th>\n",
              "      <th>comment</th>\n",
              "      <th>sentiment</th>\n",
              "    </tr>\n",
              "  </thead>\n",
              "  <tbody>\n",
              "    <tr>\n",
              "      <th>0</th>\n",
              "      <td>باید کلی بشوری تا از روی صورت پاک بشه بویه ملا...</td>\n",
              "      <td>1</td>\n",
              "    </tr>\n",
              "    <tr>\n",
              "      <th>1</th>\n",
              "      <td>خوبه ولی روی موهای من تاثیر زیادی نداشت</td>\n",
              "      <td>0</td>\n",
              "    </tr>\n",
              "    <tr>\n",
              "      <th>2</th>\n",
              "      <td>نخرید رنگش در میاد به دست</td>\n",
              "      <td>1</td>\n",
              "    </tr>\n",
              "    <tr>\n",
              "      <th>3</th>\n",
              "      <td>بوی خوبی داره و خوب تمیز میکنه ولی اسکراب قوی ...</td>\n",
              "      <td>0</td>\n",
              "    </tr>\n",
              "    <tr>\n",
              "      <th>4</th>\n",
              "      <td>هفته پیش گرفتم.ظاهرش خیلی خوبه ولی بعده ۴ ۵ رو...</td>\n",
              "      <td>1</td>\n",
              "    </tr>\n",
              "  </tbody>\n",
              "</table>\n",
              "</div>\n",
              "      <button class=\"colab-df-convert\" onclick=\"convertToInteractive('df-918861e3-8ab6-4875-b493-c960c6851717')\"\n",
              "              title=\"Convert this dataframe to an interactive table.\"\n",
              "              style=\"display:none;\">\n",
              "        \n",
              "  <svg xmlns=\"http://www.w3.org/2000/svg\" height=\"24px\"viewBox=\"0 0 24 24\"\n",
              "       width=\"24px\">\n",
              "    <path d=\"M0 0h24v24H0V0z\" fill=\"none\"/>\n",
              "    <path d=\"M18.56 5.44l.94 2.06.94-2.06 2.06-.94-2.06-.94-.94-2.06-.94 2.06-2.06.94zm-11 1L8.5 8.5l.94-2.06 2.06-.94-2.06-.94L8.5 2.5l-.94 2.06-2.06.94zm10 10l.94 2.06.94-2.06 2.06-.94-2.06-.94-.94-2.06-.94 2.06-2.06.94z\"/><path d=\"M17.41 7.96l-1.37-1.37c-.4-.4-.92-.59-1.43-.59-.52 0-1.04.2-1.43.59L10.3 9.45l-7.72 7.72c-.78.78-.78 2.05 0 2.83L4 21.41c.39.39.9.59 1.41.59.51 0 1.02-.2 1.41-.59l7.78-7.78 2.81-2.81c.8-.78.8-2.07 0-2.86zM5.41 20L4 18.59l7.72-7.72 1.47 1.35L5.41 20z\"/>\n",
              "  </svg>\n",
              "      </button>\n",
              "      \n",
              "  <style>\n",
              "    .colab-df-container {\n",
              "      display:flex;\n",
              "      flex-wrap:wrap;\n",
              "      gap: 12px;\n",
              "    }\n",
              "\n",
              "    .colab-df-convert {\n",
              "      background-color: #E8F0FE;\n",
              "      border: none;\n",
              "      border-radius: 50%;\n",
              "      cursor: pointer;\n",
              "      display: none;\n",
              "      fill: #1967D2;\n",
              "      height: 32px;\n",
              "      padding: 0 0 0 0;\n",
              "      width: 32px;\n",
              "    }\n",
              "\n",
              "    .colab-df-convert:hover {\n",
              "      background-color: #E2EBFA;\n",
              "      box-shadow: 0px 1px 2px rgba(60, 64, 67, 0.3), 0px 1px 3px 1px rgba(60, 64, 67, 0.15);\n",
              "      fill: #174EA6;\n",
              "    }\n",
              "\n",
              "    [theme=dark] .colab-df-convert {\n",
              "      background-color: #3B4455;\n",
              "      fill: #D2E3FC;\n",
              "    }\n",
              "\n",
              "    [theme=dark] .colab-df-convert:hover {\n",
              "      background-color: #434B5C;\n",
              "      box-shadow: 0px 1px 3px 1px rgba(0, 0, 0, 0.15);\n",
              "      filter: drop-shadow(0px 1px 2px rgba(0, 0, 0, 0.3));\n",
              "      fill: #FFFFFF;\n",
              "    }\n",
              "  </style>\n",
              "\n",
              "      <script>\n",
              "        const buttonEl =\n",
              "          document.querySelector('#df-918861e3-8ab6-4875-b493-c960c6851717 button.colab-df-convert');\n",
              "        buttonEl.style.display =\n",
              "          google.colab.kernel.accessAllowed ? 'block' : 'none';\n",
              "\n",
              "        async function convertToInteractive(key) {\n",
              "          const element = document.querySelector('#df-918861e3-8ab6-4875-b493-c960c6851717');\n",
              "          const dataTable =\n",
              "            await google.colab.kernel.invokeFunction('convertToInteractive',\n",
              "                                                     [key], {});\n",
              "          if (!dataTable) return;\n",
              "\n",
              "          const docLinkHtml = 'Like what you see? Visit the ' +\n",
              "            '<a target=\"_blank\" href=https://colab.research.google.com/notebooks/data_table.ipynb>data table notebook</a>'\n",
              "            + ' to learn more about interactive tables.';\n",
              "          element.innerHTML = '';\n",
              "          dataTable['output_type'] = 'display_data';\n",
              "          await google.colab.output.renderOutput(dataTable, element);\n",
              "          const docLink = document.createElement('div');\n",
              "          docLink.innerHTML = docLinkHtml;\n",
              "          element.appendChild(docLink);\n",
              "        }\n",
              "      </script>\n",
              "    </div>\n",
              "  </div>\n",
              "  "
            ]
          },
          "metadata": {},
          "execution_count": 7
        }
      ]
    },
    {
      "cell_type": "code",
      "source": [
        "data.shape"
      ],
      "metadata": {
        "colab": {
          "base_uri": "https://localhost:8080/"
        },
        "id": "kcsknqjADN6z",
        "outputId": "743bbb1f-7861-4a8b-ac16-e10dcd3901be"
      },
      "execution_count": 8,
      "outputs": [
        {
          "output_type": "execute_result",
          "data": {
            "text/plain": [
              "(3200, 2)"
            ]
          },
          "metadata": {},
          "execution_count": 8
        }
      ]
    },
    {
      "cell_type": "code",
      "source": [
        "data.sentiment.unique()"
      ],
      "metadata": {
        "colab": {
          "base_uri": "https://localhost:8080/"
        },
        "id": "lGl0qy0RDN91",
        "outputId": "600268bd-8fe4-4bd0-f9b6-106eef03670a"
      },
      "execution_count": 9,
      "outputs": [
        {
          "output_type": "execute_result",
          "data": {
            "text/plain": [
              "array([1, 0])"
            ]
          },
          "metadata": {},
          "execution_count": 9
        }
      ]
    },
    {
      "cell_type": "code",
      "source": [
        "data.sentiment.value_counts()"
      ],
      "metadata": {
        "colab": {
          "base_uri": "https://localhost:8080/"
        },
        "id": "9j2Iz9CGDWKk",
        "outputId": "39fcfb39-e12a-443d-ac11-107d8c1bfc7d"
      },
      "execution_count": 10,
      "outputs": [
        {
          "output_type": "execute_result",
          "data": {
            "text/plain": [
              "0    2500\n",
              "1     700\n",
              "Name: sentiment, dtype: int64"
            ]
          },
          "metadata": {},
          "execution_count": 10
        }
      ]
    },
    {
      "cell_type": "code",
      "source": [
        "Y = data['sentiment']"
      ],
      "metadata": {
        "id": "Q7-AYM2ZDaOa"
      },
      "execution_count": 11,
      "outputs": []
    },
    {
      "cell_type": "code",
      "source": [
        "data['sentence_no_punctuation'] = data['comment'].str.replace('[^\\w\\s]','')\n",
        "data['sentence_no_punctuation'] = data[\"sentence_no_punctuation\"].fillna(\"fillna\")"
      ],
      "metadata": {
        "colab": {
          "base_uri": "https://localhost:8080/"
        },
        "id": "zs89iGJbDvzi",
        "outputId": "ecf9fb69-f890-4709-967c-6120096ef89e"
      },
      "execution_count": 12,
      "outputs": [
        {
          "output_type": "stream",
          "name": "stderr",
          "text": [
            "/usr/local/lib/python3.7/dist-packages/ipykernel_launcher.py:1: FutureWarning: The default value of regex will change from True to False in a future version.\n",
            "  \"\"\"Entry point for launching an IPython kernel.\n"
          ]
        }
      ]
    },
    {
      "cell_type": "code",
      "source": [
        "data.head()"
      ],
      "metadata": {
        "colab": {
          "base_uri": "https://localhost:8080/",
          "height": 206
        },
        "id": "HGwd43_VDv2J",
        "outputId": "41029074-5771-48f8-babd-48c339fb55cf"
      },
      "execution_count": 13,
      "outputs": [
        {
          "output_type": "execute_result",
          "data": {
            "text/plain": [
              "                                             comment  sentiment  \\\n",
              "0  باید کلی بشوری تا از روی صورت پاک بشه بویه ملا...          1   \n",
              "1            خوبه ولی روی موهای من تاثیر زیادی نداشت          0   \n",
              "2                          نخرید رنگش در میاد به دست          1   \n",
              "3  بوی خوبی داره و خوب تمیز میکنه ولی اسکراب قوی ...          0   \n",
              "4  هفته پیش گرفتم.ظاهرش خیلی خوبه ولی بعده ۴ ۵ رو...          1   \n",
              "\n",
              "                             sentence_no_punctuation  \n",
              "0  باید کلی بشوری تا از روی صورت پاک بشه بویه ملا...  \n",
              "1            خوبه ولی روی موهای من تاثیر زیادی نداشت  \n",
              "2                          نخرید رنگش در میاد به دست  \n",
              "3  بوی خوبی داره و خوب تمیز میکنه ولی اسکراب قوی ...  \n",
              "4  هفته پیش گرفتمظاهرش خیلی خوبه ولی بعده ۴ ۵ روز...  "
            ],
            "text/html": [
              "\n",
              "  <div id=\"df-17c24bc8-13b5-47c7-a810-089626210dbe\">\n",
              "    <div class=\"colab-df-container\">\n",
              "      <div>\n",
              "<style scoped>\n",
              "    .dataframe tbody tr th:only-of-type {\n",
              "        vertical-align: middle;\n",
              "    }\n",
              "\n",
              "    .dataframe tbody tr th {\n",
              "        vertical-align: top;\n",
              "    }\n",
              "\n",
              "    .dataframe thead th {\n",
              "        text-align: right;\n",
              "    }\n",
              "</style>\n",
              "<table border=\"1\" class=\"dataframe\">\n",
              "  <thead>\n",
              "    <tr style=\"text-align: right;\">\n",
              "      <th></th>\n",
              "      <th>comment</th>\n",
              "      <th>sentiment</th>\n",
              "      <th>sentence_no_punctuation</th>\n",
              "    </tr>\n",
              "  </thead>\n",
              "  <tbody>\n",
              "    <tr>\n",
              "      <th>0</th>\n",
              "      <td>باید کلی بشوری تا از روی صورت پاک بشه بویه ملا...</td>\n",
              "      <td>1</td>\n",
              "      <td>باید کلی بشوری تا از روی صورت پاک بشه بویه ملا...</td>\n",
              "    </tr>\n",
              "    <tr>\n",
              "      <th>1</th>\n",
              "      <td>خوبه ولی روی موهای من تاثیر زیادی نداشت</td>\n",
              "      <td>0</td>\n",
              "      <td>خوبه ولی روی موهای من تاثیر زیادی نداشت</td>\n",
              "    </tr>\n",
              "    <tr>\n",
              "      <th>2</th>\n",
              "      <td>نخرید رنگش در میاد به دست</td>\n",
              "      <td>1</td>\n",
              "      <td>نخرید رنگش در میاد به دست</td>\n",
              "    </tr>\n",
              "    <tr>\n",
              "      <th>3</th>\n",
              "      <td>بوی خوبی داره و خوب تمیز میکنه ولی اسکراب قوی ...</td>\n",
              "      <td>0</td>\n",
              "      <td>بوی خوبی داره و خوب تمیز میکنه ولی اسکراب قوی ...</td>\n",
              "    </tr>\n",
              "    <tr>\n",
              "      <th>4</th>\n",
              "      <td>هفته پیش گرفتم.ظاهرش خیلی خوبه ولی بعده ۴ ۵ رو...</td>\n",
              "      <td>1</td>\n",
              "      <td>هفته پیش گرفتمظاهرش خیلی خوبه ولی بعده ۴ ۵ روز...</td>\n",
              "    </tr>\n",
              "  </tbody>\n",
              "</table>\n",
              "</div>\n",
              "      <button class=\"colab-df-convert\" onclick=\"convertToInteractive('df-17c24bc8-13b5-47c7-a810-089626210dbe')\"\n",
              "              title=\"Convert this dataframe to an interactive table.\"\n",
              "              style=\"display:none;\">\n",
              "        \n",
              "  <svg xmlns=\"http://www.w3.org/2000/svg\" height=\"24px\"viewBox=\"0 0 24 24\"\n",
              "       width=\"24px\">\n",
              "    <path d=\"M0 0h24v24H0V0z\" fill=\"none\"/>\n",
              "    <path d=\"M18.56 5.44l.94 2.06.94-2.06 2.06-.94-2.06-.94-.94-2.06-.94 2.06-2.06.94zm-11 1L8.5 8.5l.94-2.06 2.06-.94-2.06-.94L8.5 2.5l-.94 2.06-2.06.94zm10 10l.94 2.06.94-2.06 2.06-.94-2.06-.94-.94-2.06-.94 2.06-2.06.94z\"/><path d=\"M17.41 7.96l-1.37-1.37c-.4-.4-.92-.59-1.43-.59-.52 0-1.04.2-1.43.59L10.3 9.45l-7.72 7.72c-.78.78-.78 2.05 0 2.83L4 21.41c.39.39.9.59 1.41.59.51 0 1.02-.2 1.41-.59l7.78-7.78 2.81-2.81c.8-.78.8-2.07 0-2.86zM5.41 20L4 18.59l7.72-7.72 1.47 1.35L5.41 20z\"/>\n",
              "  </svg>\n",
              "      </button>\n",
              "      \n",
              "  <style>\n",
              "    .colab-df-container {\n",
              "      display:flex;\n",
              "      flex-wrap:wrap;\n",
              "      gap: 12px;\n",
              "    }\n",
              "\n",
              "    .colab-df-convert {\n",
              "      background-color: #E8F0FE;\n",
              "      border: none;\n",
              "      border-radius: 50%;\n",
              "      cursor: pointer;\n",
              "      display: none;\n",
              "      fill: #1967D2;\n",
              "      height: 32px;\n",
              "      padding: 0 0 0 0;\n",
              "      width: 32px;\n",
              "    }\n",
              "\n",
              "    .colab-df-convert:hover {\n",
              "      background-color: #E2EBFA;\n",
              "      box-shadow: 0px 1px 2px rgba(60, 64, 67, 0.3), 0px 1px 3px 1px rgba(60, 64, 67, 0.15);\n",
              "      fill: #174EA6;\n",
              "    }\n",
              "\n",
              "    [theme=dark] .colab-df-convert {\n",
              "      background-color: #3B4455;\n",
              "      fill: #D2E3FC;\n",
              "    }\n",
              "\n",
              "    [theme=dark] .colab-df-convert:hover {\n",
              "      background-color: #434B5C;\n",
              "      box-shadow: 0px 1px 3px 1px rgba(0, 0, 0, 0.15);\n",
              "      filter: drop-shadow(0px 1px 2px rgba(0, 0, 0, 0.3));\n",
              "      fill: #FFFFFF;\n",
              "    }\n",
              "  </style>\n",
              "\n",
              "      <script>\n",
              "        const buttonEl =\n",
              "          document.querySelector('#df-17c24bc8-13b5-47c7-a810-089626210dbe button.colab-df-convert');\n",
              "        buttonEl.style.display =\n",
              "          google.colab.kernel.accessAllowed ? 'block' : 'none';\n",
              "\n",
              "        async function convertToInteractive(key) {\n",
              "          const element = document.querySelector('#df-17c24bc8-13b5-47c7-a810-089626210dbe');\n",
              "          const dataTable =\n",
              "            await google.colab.kernel.invokeFunction('convertToInteractive',\n",
              "                                                     [key], {});\n",
              "          if (!dataTable) return;\n",
              "\n",
              "          const docLinkHtml = 'Like what you see? Visit the ' +\n",
              "            '<a target=\"_blank\" href=https://colab.research.google.com/notebooks/data_table.ipynb>data table notebook</a>'\n",
              "            + ' to learn more about interactive tables.';\n",
              "          element.innerHTML = '';\n",
              "          dataTable['output_type'] = 'display_data';\n",
              "          await google.colab.output.renderOutput(dataTable, element);\n",
              "          const docLink = document.createElement('div');\n",
              "          docLink.innerHTML = docLinkHtml;\n",
              "          element.appendChild(docLink);\n",
              "        }\n",
              "      </script>\n",
              "    </div>\n",
              "  </div>\n",
              "  "
            ]
          },
          "metadata": {},
          "execution_count": 13
        }
      ]
    },
    {
      "cell_type": "code",
      "source": [
        "max_features = 5000\n",
        "maxlen = 100"
      ],
      "metadata": {
        "id": "OOWKseEvDv5L"
      },
      "execution_count": 14,
      "outputs": []
    },
    {
      "cell_type": "code",
      "source": [
        "tokenizer = Tokenizer(num_words = max_features)"
      ],
      "metadata": {
        "id": "wLGM-X2ZEIMl"
      },
      "execution_count": 15,
      "outputs": []
    },
    {
      "cell_type": "code",
      "source": [
        "# Convert pandas to numpy\n",
        "np_data = data[\"sentence_no_punctuation\"].values"
      ],
      "metadata": {
        "id": "TfdkSqi-JH3Y"
      },
      "execution_count": 16,
      "outputs": []
    },
    {
      "cell_type": "code",
      "source": [
        "np_data"
      ],
      "metadata": {
        "colab": {
          "base_uri": "https://localhost:8080/"
        },
        "id": "5cjtIwSniwMs",
        "outputId": "83a4a1cc-42e2-4eb7-88db-07efe3221509"
      },
      "execution_count": 17,
      "outputs": [
        {
          "output_type": "execute_result",
          "data": {
            "text/plain": [
              "array(['باید کلی بشوری تا از روی صورت پاک بشه بویه ملایمی هم داره  پوست من   مختلطه مخصوص پوست های خشک و معمولیشو گرفتم که زیاد قوی نباشه و پوستمو خشک نکنه الان ۶ ماه دارمش اوایلش راضی بودم اما بعد از مدتی دیدم دور چشمام داره چروکهای خیلی ریز میفته دیگه ۳۴ روز یه بار ازش استفاده میکنم اونم فقط روی قسمته چرب پوستم',\n",
              "       'خوبه ولی روی موهای من تاثیر زیادی نداشت',\n",
              "       'نخرید رنگش در میاد به دست', ...,\n",
              "       'خوبه به بدن نمیچسبه برعکس به لباس خوب می چسبه دوامش هم خوبه',\n",
              "       'من برای خودم و مادربزرگم گرفتم',\n",
              "       'خیلی خوبه مرسی دیجی کالا خیلی خوب جی تی ای بازی میکنم باهاش'],\n",
              "      dtype=object)"
            ]
          },
          "metadata": {},
          "execution_count": 17
        }
      ]
    },
    {
      "cell_type": "markdown",
      "source": [
        "## **Install hazm library**"
      ],
      "metadata": {
        "id": "RXSVdJTxh27b"
      }
    },
    {
      "cell_type": "code",
      "source": [
        "# install hazm library\n",
        "!pip install hazm\n",
        "from hazm import word_tokenize"
      ],
      "metadata": {
        "colab": {
          "base_uri": "https://localhost:8080/"
        },
        "id": "fXorDK2Th2L7",
        "outputId": "ce9c6a55-76c3-49ac-f40c-19b1109d2ba1"
      },
      "execution_count": 18,
      "outputs": [
        {
          "output_type": "stream",
          "name": "stdout",
          "text": [
            "Looking in indexes: https://pypi.org/simple, https://us-python.pkg.dev/colab-wheels/public/simple/\n",
            "Collecting hazm\n",
            "  Downloading hazm-0.7.0-py3-none-any.whl (316 kB)\n",
            "\u001b[K     |████████████████████████████████| 316 kB 5.2 MB/s \n",
            "\u001b[?25hCollecting libwapiti>=0.2.1\n",
            "  Downloading libwapiti-0.2.1.tar.gz (233 kB)\n",
            "\u001b[K     |████████████████████████████████| 233 kB 43.1 MB/s \n",
            "\u001b[?25hCollecting nltk==3.3\n",
            "  Downloading nltk-3.3.0.zip (1.4 MB)\n",
            "\u001b[K     |████████████████████████████████| 1.4 MB 48.4 MB/s \n",
            "\u001b[?25hRequirement already satisfied: six in /usr/local/lib/python3.7/dist-packages (from nltk==3.3->hazm) (1.15.0)\n",
            "Building wheels for collected packages: nltk, libwapiti\n",
            "  Building wheel for nltk (setup.py) ... \u001b[?25l\u001b[?25hdone\n",
            "  Created wheel for nltk: filename=nltk-3.3-py3-none-any.whl size=1394485 sha256=d8fd3c93f15df0f411fa2f884dd54388199e6855393ff92ba941a4b70b44d353\n",
            "  Stored in directory: /root/.cache/pip/wheels/9b/fd/0c/d92302c876e5de87ebd7fc0979d82edb93e2d8d768bf71fac4\n",
            "  Building wheel for libwapiti (setup.py) ... \u001b[?25l\u001b[?25hdone\n",
            "  Created wheel for libwapiti: filename=libwapiti-0.2.1-cp37-cp37m-linux_x86_64.whl size=154917 sha256=1960e458f362df2a418a37f0e3287b6527013315f20d968f3d62810e835d625c\n",
            "  Stored in directory: /root/.cache/pip/wheels/ab/b2/5b/0fe4b8f5c0e65341e8ea7bb3f4a6ebabfe8b1ac31322392dbf\n",
            "Successfully built nltk libwapiti\n",
            "Installing collected packages: nltk, libwapiti, hazm\n",
            "  Attempting uninstall: nltk\n",
            "    Found existing installation: nltk 3.7\n",
            "    Uninstalling nltk-3.7:\n",
            "      Successfully uninstalled nltk-3.7\n",
            "Successfully installed hazm-0.7.0 libwapiti-0.2.1 nltk-3.3\n"
          ]
        }
      ]
    },
    {
      "cell_type": "code",
      "source": [
        "def read_stop_words(filename):\n",
        "  with open(filename) as stopwords_file:\n",
        "    stopwords = stopwords_file.readlines()\n",
        "  stopwords = [line.replace('\\n', '') for line in stopwords] \n",
        "  return stopwords"
      ],
      "metadata": {
        "id": "mP1jGmlDhlt4"
      },
      "execution_count": 19,
      "outputs": []
    },
    {
      "cell_type": "code",
      "source": [
        "stopwords = read_stop_words('stopwords.txt')\n",
        "print(len(stopwords))"
      ],
      "metadata": {
        "colab": {
          "base_uri": "https://localhost:8080/"
        },
        "id": "zenFAC4ghmYw",
        "outputId": "8879912f-49f0-4ccd-e26d-0ba7cfc09237"
      },
      "execution_count": 20,
      "outputs": [
        {
          "output_type": "stream",
          "name": "stdout",
          "text": [
            "1316\n"
          ]
        }
      ]
    },
    {
      "cell_type": "code",
      "source": [
        "word_tokenized = [word_tokenize(t) for t in np_data]\n",
        "word_tokenized_filtered = [[w for w in sentence if w not in stopwords] for sentence in word_tokenized]"
      ],
      "metadata": {
        "id": "0WlgiwbdhOAy"
      },
      "execution_count": 21,
      "outputs": []
    },
    {
      "cell_type": "code",
      "source": [
        "word_tokenized_filtered[0:5]"
      ],
      "metadata": {
        "colab": {
          "base_uri": "https://localhost:8080/"
        },
        "id": "qVDvJynsjFM5",
        "outputId": "36bfe97f-b813-47f5-aee2-c23448696b06"
      },
      "execution_count": 22,
      "outputs": [
        {
          "output_type": "execute_result",
          "data": {
            "text/plain": [
              "[['بشوری',\n",
              "  'پاک',\n",
              "  'بشه',\n",
              "  'بویه',\n",
              "  'ملایمی',\n",
              "  'داره',\n",
              "  'پوست',\n",
              "  'مختلطه',\n",
              "  'مخصوص',\n",
              "  'پوست',\n",
              "  'خشک',\n",
              "  'معمولیشو',\n",
              "  'قوی',\n",
              "  'نباشه',\n",
              "  'پوستمو',\n",
              "  'خشک',\n",
              "  'نکنه',\n",
              "  'ماه',\n",
              "  'دارمش',\n",
              "  'اوایلش',\n",
              "  'راضی',\n",
              "  'مدتی',\n",
              "  'دیدم',\n",
              "  'دور',\n",
              "  'چشمام',\n",
              "  'داره',\n",
              "  'چروکهای',\n",
              "  'ریز',\n",
              "  'میفته',\n",
              "  '۳۴',\n",
              "  'اونم',\n",
              "  'قسمته',\n",
              "  'چرب',\n",
              "  'پوستم'],\n",
              " ['خوبه', 'موهای', 'تاثیر', 'زیادی'],\n",
              " ['نخرید', 'رنگش', 'میاد', 'دست'],\n",
              " ['بوی', 'خوبی', 'داره', 'تمیز', 'میکنه', 'اسکراب', 'قوی'],\n",
              " ['هفته',\n",
              "  'گرفتمظاهرش',\n",
              "  'خوبه',\n",
              "  'بعده',\n",
              "  'دوره',\n",
              "  'لبش',\n",
              "  'شکست۵',\n",
              "  'کار',\n",
              "  'کنهو',\n",
              "  'توصیه']]"
            ]
          },
          "metadata": {},
          "execution_count": 22
        }
      ]
    },
    {
      "cell_type": "code",
      "source": [
        "tokenizer.fit_on_texts(word_tokenized_filtered)"
      ],
      "metadata": {
        "id": "KeN-ZNjUEIPK"
      },
      "execution_count": 23,
      "outputs": []
    },
    {
      "cell_type": "code",
      "source": [
        "print(tokenizer.word_index)\n"
      ],
      "metadata": {
        "id": "Yng3QL_UEISU",
        "colab": {
          "base_uri": "https://localhost:8080/"
        },
        "outputId": "c52586bb-d6de-412b-84ce-bbb0a4d09576"
      },
      "execution_count": 24,
      "outputs": [
        {
          "output_type": "stream",
          "name": "stdout",
          "text": [
            "{'داره': 1, 'کیفیت': 2, 'خوبه': 3, 'عالی': 4, 'پوست': 5, 'خوبی': 6, 'میشه': 7, 'میکنه': 8, 'عالیه': 9, 'خریدم': 10, 'کابل': 11, 'قیمت': 12, 'کرم': 13, 'راضی': 14, 'نسبت': 15, 'محصول': 16, 'پیشنهاد': 17, 'گوشی': 18, 'قیمتش': 19, 'نداره': 20, 'شارژ': 21, 'مناسب': 22, 'خشک': 23, 'کالا': 24, 'نظر': 25, 'رنگ': 26, 'کار': 27, 'دیجی': 28, 'راضیم': 29, 'نرم': 30, 'خرید': 31, 'خوبیه': 32, 'مو': 33, 'بوی': 34, 'چرب': 35, 'جوش': 36, 'جنس': 37, 'میده': 38, 'پاک': 39, 'العاده': 40, 'نمیکنه': 41, 'پوستم': 42, 'ارزش': 43, 'باشه': 44, 'سلام': 45, 'قاب': 46, 'شامپو': 47, 'هستش': 48, 'نمیشه': 49, 'توجه': 50, 'دستم': 51, 'موهای': 52, 'ماه': 53, 'شگفت': 54, 'ضد': 55, 'محصولات': 56, 'سفارش': 57, 'هفته': 58, 'دور': 59, 'ماسک': 60, 'دوستان': 61, 'موهام': 62, 'انگیز': 63, 'کنندگی': 64, 'کیفیتش': 65, 'کاور': 66, 'جذب': 67, 'تاثیر': 68, 'دست': 69, 'سه': 70, 'توصیه': 71, 'حس': 72, 'نظرم': 73, 'خریدش': 74, 'بخرید': 75, 'بشه': 76, 'حالت': 77, 'سرعت': 78, 'مدل': 79, 'مناسبه': 80, 'واسه': 81, 'بسته': 82, 'مرطوب': 83, 'چشم': 84, 'جنسش': 85, 'خراب': 86, 'برند': 87, 'کنه': 88, 'چربی': 89, 'قطع': 90, 'مسواک': 91, 'کیف': 92, 'نمیکنم': 93, 'بالایی': 94, 'بگم': 95, 'حجم': 96, 'ایرانی': 97, 'زیادی': 98, 'موها': 99, 'تاثیری': 100, 'یکم': 101, 'دندان': 102, 'باعث': 103, 'روغن': 104, 'زیبا': 105, 'رنگش': 106, 'ممنون': 107, 'پایین': 108, 'قدرت': 109, 'سیم': 110, 'تمیز': 111, 'صورتم': 112, 'دیدم': 113, 'لپ': 114, 'شک': 115, 'خشکی': 116, 'ب': 117, 'سال': 118, 'تاپ': 119, 'عکس': 120, 'وصل': 121, 'انتقال': 122, 'اینه': 123, 'بهتره': 124, 'نتیجه': 125, 'همون': 126, 'امتحان': 127, 'ژل': 128, 'بو': 129, 'اثر': 130, 'کف': 131, 'تخفیف': 132, 'اندازه': 133, 'سرم': 134, 'مشکلی': 135, 'نکرد': 136, 'خارجی': 137, 'لطیف': 138, 'آفتاب': 139, 'میشد': 140, 'روشن': 141, 'صرفه': 142, 'مشکل': 143, 'نظرات': 144, 'راحتی': 145, 'باهاش': 146, 'خریداری': 147, 'سبک': 148, 'احساس': 149, 'مارک': 150, 'ساعت': 151, 'زدم': 152, 'ساله': 153, 'لحاظ': 154, 'بازار': 155, 'مصرف': 156, 'ساخت': 157, 'شوره': 158, 'نمیخوره': 159, 'مناسبی': 160, 'شدت': 161, 'دارن': 162, 'ناخن': 163, 'لایه': 164, 'ندیدم': 165, 'شارژر': 166, 'جواب': 167, 'حساسیت': 168, 'ریزش': 169, 'میاد': 170, 'رایحه': 171, 'ضربه': 172, 'درد': 173, 'اس': 174, 'صابون': 175, 'میکردم': 176, 'ایجاد': 177, 'مخصوصا': 178, 'قوی': 179, 'دقیقه': 180, 'ماهه': 181, 'دکمه': 182, 'خاصی': 183, 'برام': 184, 'سفید': 185, 'نوشته': 186, 'قسمت': 187, 'پوشش': 188, 'محافظت': 189, 'تصویر': 190, 'خمیر': 191, 'نخرید': 192, 'بده': 193, 'طراحی': 194, 'اصلی': 195, 'حمام': 196, 'آب': 197, 'بدن': 198, 'موقع': 199, 'شب': 200, 'مشکی': 201, 'براق': 202, 'بازم': 203, 'ترک': 204, 'میزنم': 205, 'لاک': 206, 'فست': 207, 'خوشبو': 208, 'زیبایی': 209, 'بوش': 210, 'کارایی': 211, 'تشکر': 212, 'متوجه': 213, 'فیت': 214, 'حجمش': 215, 'بعدش': 216, 'طول': 217, 'چربه': 218, 'بقیه': 219, 'ارزه': 220, 'حرف': 221, 'نازک': 222, 'بخاطر': 223, 'اومد': 224, 'نمیده': 225, 'نکردم': 226, 'برق': 227, 'مشابه': 228, 'کمه': 229, 'هستن': 230, 'آسیب': 231, 'کالای': 232, 'وز': 233, 'بنظرم': 234, '2': 235, 'دقت': 236, 'آرایش': 237, 'قشنگ': 238, 'دوتا': 239, 'ماندگاری': 240, 'داخلش': 241, 'موجود': 242, '10': 243, 'موی': 244, 'حساس': 245, 'خاطر': 246, 'بدستم': 247, 'میمونه': 248, 'کسایی': 249, 'نقطه': 250, 'درکل': 251, 'میخوره': 252, 'خوشم': 253, 'نخ': 254, 'ارسال': 255, 'مقایسه': 256, 'پر': 257, 'ضعیف': 258, 'میزنه': 259, 'شه': 260, 'سوکت': 261, 'گرون': 262, 'ظاهر': 263, 'صدا': 264, 'اتصال': 265, 'عوض': 266, 'میره': 267, 'نکته': 268, 'صاف': 269, 'سفت': 270, 'سبکه': 271, 'نگه': 272, '3': 273, 'دیجیکالا': 274, 'دوست': 275, 'انتخاب': 276, 'اشتباه': 277, 'هزینه': 278, 'انتظار': 279, 'کلام': 280, 'محصولو': 281, 'بدم': 282, 'نیاز': 283, 'سایت': 284, 'نشد': 285, 'گلس': 286, 'کوله': 287, 'زدن': 288, 'سنگین': 289, 'آبرسانی': 290, 'اولش': 291, 'تهیه': 292, 'کیفیتی': 293, 'یکبار': 294, 'پلاستیک': 295, 'قیمتی': 296, 'بدرد': 297, 'جالب': 298, 'قرمز': 299, 'میگیره': 300, 'کاربردی': 301, 'بخرم': 302, 'میدم': 303, 'اینچی': 304, 'درصد': 305, 'اسپری': 306, 'ریز': 307, 'شفاف': 308, 'شبیه': 309, 'مقاوم': 310, 'تره': 311, 'گوشه': 312, 'مواد': 313, 'درمان': 314, 'نیس': 315, 'سایز': 316, 'وقت': 317, 'اذیت': 318, 'جی': 319, 'موهامو': 320, 'ساده': 321, 'پوسته': 322, 'لک': 323, 'دیتا': 324, 'دلیل': 325, 'تغییر': 326, 'مجبور': 327, 'تعریف': 328, 'وجه': 329, 'عین': 330, 'صورتی': 331, 'بدی': 332, 'آدم': 333, 'میخرم': 334, 'پولی': 335, 'رضایت': 336, 'ممکنه': 337, 'زیباست': 338, 'کوچیک': 339, 'میتونم': 340, 'usb': 341, 'فرق': 342, 'تست': 343, 'قابلیت': 344, 'افتاد': 345, 'حد': 346, 'خشکه': 347, 'خریدمش': 348, 'نشون': 349, 'شامپوی': 350, 'لبه': 351, 'خارش': 352, 'میبره': 353, 'آبی': 354, 'شکست': 355, 'سامسونگ': 356, 'محافظ': 357, 'گوشیم': 358, 'کنین': 359, 'تاریخ': 360, 'ظاهرش': 361, 'بخرین': 362, 'پاور': 363, 'قشنگه': 364, 'حیف': 365, 'بنظر': 366, 'دی': 367, 'خریده_بودم': 368, 'دسته': 369, 'برندهای': 370, 'افرادی': 371, 'پایینی': 372, 'قرار': 373, 'پول': 374, 'مخصوص': 375, 'اسکراب': 376, 'رنگی': 377, 'زد': 378, 'پورت': 379, 'دنبال': 380, 'آیفون': 381, 'فروش': 382, 'موهارو': 383, 'ارزون': 384, 'طبق': 385, 'پشتیبانی': 386, 'هاش': 387, 'سالم': 388, 'بلند': 389, 'باکیفیت': 390, 'نشه': 391, 'کوچیکه': 392, 'گزینه': 393, 'پشیمون': 394, 'صبح': 395, 'بنده': 396, 'کنن': 397, 'اصل': 398, 'نمیکردم': 399, 'پاره': 400, 'صورتمو': 401, 'شده_بود': 402, 'پد': 403, 'ایرادی': 404, 'طبیعی': 405, 'پوستای': 406, 'شستشوی': 407, 'بالاتر': 408, 'میشود': 409, 'سطح': 410, 'روزه': 411, 'لوسیون': 412, 'منافذ': 413, 'بمونه': 414, 'دکلره': 415, 'میزدم': 416, 'برطرف': 417, 'پوستهای': 418, 'سیمش': 419, 'دوبار': 420, 'صفحه': 421, 'ازین': 422, 'کیفیته': 423, 'شیکه': 424, 'چشمم': 425, 'اپل': 426, 'دستگاه': 427, 'جادار': 428, 'خاصیت': 429, 'نمیدونم': 430, 'مقداری': 431, 'طلایی': 432, 'کنندگیش': 433, 'پوستو': 434, 'میخواستم': 435, 'لذت': 436, 'پوستمو': 437, 'تیره': 438, 'عزیز': 439, 'کوتاه': 440, 'مهم': 441, 'دارای': 442, 'صورتو': 443, 'مثبت': 444, 'شرکت': 445, 'حدی': 446, 'ملایم': 447, 'بهداشتی': 448, 'سی': 449, 'فک': 450, 'مانیتور': 451, 'شستشو': 452, 'استاندارد': 453, 'انعطاف': 454, 'میداره': 455, 'معجزه': 456, 'گره': 457, 'میکنن': 458, 'شل': 459, 'فروشنده': 460, 'خط': 461, 'پارچه': 462, 'شونه': 463, 'میگن': 464, 'خوشگل': 465, 'چسب': 466, 'عرق': 467, 'منو': 468, 'خورده': 469, 'پوستی': 470, 'میکرد': 471, 'گارانتی': 472, 'آبرسان': 473, 'دوربین': 474, 'آرایشی': 475, 'گرفته_بودم': 476, 'ماشین': 477, 'مدتی': 478, 'اونم': 479, 'تاثیرشو': 480, 'سختی': 481, 'پخش': 482, 'بابت': 483, 'گذاشتن': 484, 'یو': 485, 'مرجوع': 486, 'براتون': 487, 'طولانی': 488, 'عملکرد': 489, 'علت': 490, '4': 491, 'تصمیم': 492, 'محلول': 493, 'نمایش': 494, 'بودنش': 495, '156': 496, 'همراه': 497, '15': 498, 'کردنش': 499, 'العادست': 500, 'انداختم': 501, 'بهتری': 502, 'حساسه': 503, 'دچار': 504, 'سفته': 505, 'فشار': 506, 'براش': 507, 'شوینده': 508, 'پیشنهادش': 509, 'میتونید': 510, 'تموم': 511, 'اینچ': 512, 'ممنونم': 513, 'امتحانش': 514, 'کیفیتیه': 515, 'باقی': 516, 'میبینم': 517, 'تبدیل': 518, 'قیمتشم': 519, 'گارد': 520, 'میکرو': 521, 'کوچک': 522, 'تاثیرش': 523, 'گرونه': 524, 'سینره': 525, 'توش': 526, 'بزرگه': 527, 'کافی': 528, 'هدیه': 529, 'تحویل': 530, 'دندون': 531, 'پوستتون': 532, '1': 533, 'ارزان': 534, 'چروک': 535, 'محل': 536, 'جاش': 537, 'راحته': 538, 'شروع': 539, 'جعبه': 540, 'زده': 541, 'برخلاف': 542, 'لپتاپ': 543, 'دکتر': 544, 'پودر': 545, 'مرور': 546, 'قبولی': 547, 'محصولی': 548, 'ملایمی': 549, 'دارمش': 550, 'بهتون': 551, 'سبزه': 552, 'درود': 553, 'خورد': 554, 'میشکنه': 555, 'ایراد': 556, 'انگشت': 557, 'علاوه': 558, 'غلظت': 559, 'قبول': 560, 'العادس': 561, 'میخوام': 562, 'همسرم': 563, 'میشورم': 564, 'نمونه': 565, 'روزی': 566, 'میشن': 567, 'نیم': 568, 'همینطور': 569, 'گوشیتون': 570, 'همش': 571, 'پا': 572, '۱۰': 573, 'بند': 574, 'ضخیم': 575, 'محکمه': 576, 'اطلاعات': 577, 'شخصه': 578, 'دوام': 579, 'گذار': 580, 'نهایت': 581, 'هارو': 582, 'سوهان': 583, 'نمیزنه': 584, 'افتادن': 585, 'مستعد': 586, 'مختلط': 587, 'حسابی': 588, 'میتونه': 589, 'میباشد': 590, 'اورجینال': 591, 'تجربه': 592, 'تولید': 593, 'درجه': 594, 'آمپر': 595, 'صدای': 596, 'بالاس': 597, 'دریافت': 598, 'رنج': 599, 'سوزش': 600, '5': 601, 'شارژش': 602, 'عطر': 603, 'ضعیفه': 604, 'کدر': 605, 'توضیحات': 606, 'پولتون': 607, 'کنده': 608, 'میخوابه': 609, 'برسه': 610, 'دوخت': 611, 'تنظیم': 612, 'گم': 613, 'تقویت': 614, 'لطافت': 615, 'عادت': 616, 'ارایش': 617, 'سمت': 618, 'یکماه': 619, 'طرح': 620, 'ظرف': 621, 'دستی': 622, 'پایینه': 623, 'تجویز': 624, 'شکننده': 625, 'درب': 626, 'خلاف': 627, 'پذیری': 628, 'ریش': 629, 'شامپوهای': 630, 'کوچکترین': 631, 'شیمیایی': 632, 'افتضاح': 633, 'وارد': 634, 'نمیتونم': 635, 'دومین': 636, 'طعم': 637, 'محض': 638, 'گول': 639, 'نگران': 640, 'کامپیوتر': 641, 'خروجی': 642, 'کمک': 643, 'نصف': 644, 'ایران': 645, 'نمیشد': 646, 'چربیش': 647, 'سبکی': 648, 'خاص': 649, 'سایزش': 650, 'میشید': 651, 'خش': 652, 'ps4': 653, 'اسپیکر': 654, 'قبوله': 655, 'دهان': 656, 'ماهی': 657, 'سشوار': 658, 'دوسش': 659, 'متفاوت': 660, 'گوشیو': 661, 'ایفون': 662, 'شون': 663, 'زرد': 664, 'اسانس': 665, 'کراتینه': 666, 'لق': 667, 'دفعه': 668, 'افزایش': 669, 'داغ': 670, 'کابلهای': 671, 'افت': 672, 'نمیشود': 673, 'گل': 674, 'افتاب': 675, 'دوستانی': 676, 'فوم': 677, 'طوری': 678, 'لخت': 679, 'ذره': 680, 'بصورت': 681, 'سیاه': 682, 'بژ': 683, 'نباشه': 684, 'روشنه': 685, 'اشاره': 686, 'خدمت': 687, 'پشتی': 688, 'عمر': 689, 'طبیعیه': 690, 'ارائه': 691, 'اونی': 692, 'متفاوته': 693, 'باتری': 694, 'اثری': 695, 'ابتدا': 696, 'بخوام': 697, 'طولش': 698, 'کوتاهه': 699, 'سرعتش': 700, 'aux': 701, 'بهم': 702, 'صبر': 703, 'فایده': 704, 'قطعی': 705, 'دستتون': 706, 'رازی': 707, 'سیلیکونی': 708, 'ژله': 709, 'عصاره': 710, 'پاهام': 711, 'الارو': 712, 'بچه': 713, 'بندیش': 714, 'بدنه': 715, 'فاصله': 716, 'شیشه': 717, 'بازی': 718, 'دهنده': 719, 'ست': 720, 'میل': 721, 'مات': 722, 'نمیکند': 723, 'وسایل': 724, 'نمیشید': 725, 'نظیره': 726, 'هاست': 727, 'ضمنا': 728, 'همونی': 729, 'زور': 730, 'اوایل': 731, 'جرم': 732, 'کارم': 733, 'ضرر': 734, 'کرده_بودم': 735, 'مجموع': 736, 'الکی': 737, 'بافت': 738, 'ضعف': 739, 'ساپورت': 740, 'قبلی': 741, 'مقرون': 742, 'چندتا': 743, 'قرمزش': 744, 'لثه': 745, 'هام': 746, 'بزنه': 747, 'میاره': 748, 'نازکه': 749, 'قشنگیه': 750, 'نخوره': 751, 'کمرنگ': 752, 'خوندم': 753, '20': 754, 'لازم': 755, 'منم': 756, 'اثرش': 757, 'چک': 758, 'شامپویی': 759, 'کرده_بود': 760, 'یهو': 761, 'مطمئن': 762, 'معتبر': 763, 'مشاهده': 764, 'درگاه': 765, 'موبایل': 766, 'میبینید': 767, 'سالی': 768, 'ایه': 769, 'درش': 770, 'معمولیه': 771, 'حالتی': 772, 'استفادش': 773, 'باسلام': 774, 'خارج': 775, 'خمیردندان': 776, '۲۰': 777, 'پایه': 778, 'اعتماد': 779, 'نیازی': 780, 'گران': 781, 'قبلش': 782, 'میرسه': 783, 'کارامد': 784, 'حموم': 785, 'ماساژ': 786, 'مشخصات': 787, 'میومد': 788, 'میداد': 789, 'کرمهای': 790, 'کمش': 791, 'رنگه': 792, 'بزرگی': 793, 'خوشرنگه': 794, 'ترمیم': 795, 'خونه': 796, '7': 797, 'شستن': 798, 'تری': 799, 'میخریدم': 800, 'بعداز': 801, 'نظری': 802, 'اینم': 803, 'مبدل': 804, 'مختلطه': 805, 'نکنه': 806, 'سرسیاه': 807, 'محفظه': 808, 'داخلی': 809, 'سنگینی': 810, 'میکنین': 811, 'ثانیه': 812, 'انواع': 813, 'محیط': 814, 'ریختم': 815, 'میندازه': 816, 'مایع': 817, 'متری': 818, 'رابط': 819, 'طراوت': 820, 'نمیکرد': 821, 'نمیاد': 822, 'اسم': 823, 'بردار': 824, 'کارکرد': 825, 'نرمی': 826, 'دوتاش': 827, 'فرقی': 828, 'قطر': 829, 'کتاب': 830, 'متر': 831, 'جون': 832, 'صداش': 833, 'موخوره': 834, 'برد': 835, 'فلزی': 836, 'عکسش': 837, 'همشون': 838, 'تغییری': 839, 'خریدن': 840, 'حرفی': 841, 'تمیزکنندگی': 842, 'رقیق': 843, 'باشن': 844, 'پمپ': 845, 'حساسی': 846, 'خوردن': 847, 'فهمیدم': 848, 'رفتم': 849, 'پک': 850, 'هس': 851, 'مقاومت': 852, 'دوماه': 853, 'شادابی': 854, 'نخورد': 855, 'خودشو': 856, 'تی': 857, 'چوب': 858, 'بره': 859, 'فرم': 860, 'جاهایی': 861, 'میشینه': 862, 'برنامه': 863, 'خوشگله': 864, 'گرافیک': 865, 'لوازم': 866, 'انقضا': 867, 'قدیمی': 868, 'دونه': 869, 'چای': 870, 'واقع': 871, 'نصب': 872, 'پشتش': 873, 'یبار': 874, 'نقاط': 875, 'دائما': 876, 'مداوم': 877, 'برچسب': 878, 'برادرم': 879, 'تومن': 880, 'موهاتون': 881, 'موثر': 882, 'تماس': 883, 'مقاومه': 884, 'نخور': 885, 'حفظ': 886, 'سازگاره': 887, 'خوبش': 888, 'تونر': 889, 'میدید': 890, 'داشته_باشید': 891, 'دندونا': 892, 'سنسوداین': 893, 'امکان': 894, 'هربار': 895, 'امپر': 896, 'عادی': 897, 'تکه': 898, 'کرمی': 899, 'تعجب': 900, 'شکل': 901, 'پلاستیکی': 902, 'کانکتور': 903, 'باتوجه': 904, 'خوردم': 905, 'بدترین': 906, 'بزنم': 907, 'کیفت': 908, 'ضدآفتاب': 909, 'چفت': 910, 'کثیف': 911, 'خمیردندون': 912, 'لکه': 913, 'بردن': 914, 'میگیرم': 915, 'نوت': 916, 'آرگان': 917, 'ورودی': 918, 'میخوان': 919, 'عرض': 920, 'دارین': 921, 'باشین': 922, 'پوشانندگی': 923, 'مصنوعی': 924, 'افراد': 925, 'مای': 926, 'میخرمش': 927, 'فلش': 928, 'کشیدگی': 929, 'نبودم': 930, 'تکون': 931, 'جلد': 932, 'دستمال': 933, 'افتاده': 934, 'مویی': 935, 'دیگ': 936, 'انداختمش': 937, 'وسیله': 938, 'تمییز': 939, 'موقعی': 940, 'بنفش': 941, '12': 942, 'ندید': 943, 'تفاوت': 944, 'میفته': 945, 'هرچی': 946, 'داشته_باشد': 947, 'بعنوان': 948, 'کاری': 949, 'بدید': 950, 'کنترل': 951, 'مشکیشو': 952, 'میتونین': 953, 'صورتت': 954, 'سازنده': 955, 'خوشحال': 956, 'تعداد': 957, 'بالاتری': 958, 'کابلی': 959, 'شدنش': 960, 'گوشیه': 961, 'درضمن': 962, 'همینه': 963, 'ندارن': 964, 'htc': 965, 'مهمه': 966, 'بگیرین': 967, 'مربوط': 968, 'پزشک': 969, 'علی': 970, 'اونایی': 971, 'رقیقه': 972, 'چسبندگی': 973, 'دوهفته': 974, 'کاربردیه': 975, 'ذوقم': 976, 'چن': 977, 'لحظه': 978, 'موندگاری': 979, 'نگیرید': 980, 'جنسشم': 981, 'کالایی': 982, 'کوچولو': 983, 'نگرفتم': 984, 'قفل': 985, 'نمیمونه': 986, 'بصرفه': 987, 'نقص': 988, 'سوختگی': 989, 'جزو': 990, 'قوطیش': 991, 'ریختن': 992, 'داروخانه': 993, 'جالبه': 994, 'میگم': 995, 'میدی': 996, 'منکه': 997, 'مث': 998, 'ضعفش': 999, 'پولتونو': 1000, 'هدر': 1001, 'کاشت': 1002, 'حفاظت': 1003, 'اومده': 1004, 'تون': 1005, 'پن': 1006, 'دید': 1007, 'اینکار': 1008, 'قیمتشون': 1009, 'خوشحالم': 1010, 'مینای': 1011, 'مونده': 1012, 'تاب': 1013, 'تیکه': 1014, 'سفیدش': 1015, 'اتفاقی': 1016, 'کیفیتشم': 1017, 'گرم': 1018, 'پشیمان': 1019, 'سازگار': 1020, 'مطمئنا': 1021, 'بخوره': 1022, 'درمانی': 1023, 'دون': 1024, 'دوستام': 1025, 'محکمی': 1026, 'بیاد': 1027, 'بزنید': 1028, 'فروشگاه': 1029, 'وقتا': 1030, 'بدیش': 1031, 'بزنی': 1032, 'ماسکش': 1033, 'صورتتون': 1034, 'ابریشمی': 1035, 'کنندس': 1036, 'میبینی': 1037, 'قرمزی': 1038, 'احتمال': 1039, 'خیلیم': 1040, 'نیومده': 1041, 'باریک': 1042, 'گرونتر': 1043, 'قیچی': 1044, 'pro': 1045, 'مبلغ': 1046, 'قالب': 1047, 'روکش': 1048, 'پرداخت': 1049, 'بهترینه': 1050, 'بدنم': 1051, 'اونو': 1052, 'شخصی': 1053, 'حرفه': 1054, 'منزل': 1055, 'قدیم': 1056, 'عبوری': 1057, 'ریمکس': 1058, 'کاهش': 1059, 'دندانهای': 1060, 'خیال': 1061, 'بانک': 1062, 'تاحالا': 1063, 'پذیر': 1064, 'میشدن': 1065, 'ظاهری': 1066, 'بینی': 1067, 'میپوشونه': 1068, 'اسیب': 1069, 'نداد': 1070, 'قطره': 1071, 'پیشنهادمیکنم': 1072, 'توقع': 1073, 'گیاهی': 1074, 'بوشم': 1075, 'ارور': 1076, 'پایینش': 1077, 'قلم': 1078, 'بایودرما': 1079, 'معرفی': 1080, 'جوشای': 1081, 'نکردن': 1082, 'دوستانم': 1083, 'بزرگتر': 1084, 'برندها': 1085, 'میکشه': 1086, 'سنین': 1087, 'زبان': 1088, 'برقی': 1089, 's': 1090, 'درشت': 1091, 'وزن': 1092, '۱۵': 1093, 'سن': 1094, 'خانم': 1095, 'قشنگی': 1096, 'ببرید': 1097, 'پنبه': 1098, '۴۸': 1099, 'باکیفیته': 1100, 'نویز': 1101, '30': 1102, 'ماده': 1103, 'چشمو': 1104, 'اضافه': 1105, 'خودمم': 1106, 'سرش': 1107, 'حین': 1108, 'پولمو': 1109, 'نیومد': 1110, 'وقته': 1111, 'رنگشم': 1112, 'نظرمو': 1113, 'مینویسم': 1114, 'میتونن': 1115, 'نخش': 1116, 'فیروز': 1117, 'افتخار': 1118, 'عسل': 1119, 'قرص': 1120, 'نیلکین': 1121, 'مشکیش': 1122, 'اینا': 1123, 'وخیلی': 1124, 'فابریک': 1125, 'گذاشتم': 1126, 'نباشید': 1127, 'ایی': 1128, 'فیکس': 1129, 'fast': 1130, 'نریزید': 1131, 'پای': 1132, 'لوکس': 1133, 'چشمام': 1134, 'هیچوقت': 1135, 'نبوده': 1136, 'اومدن': 1137, 'عالیست': 1138, 'اردن': 1139, 'تحقیق': 1140, 'موثره': 1141, 'محصوله': 1142, 'بیفته': 1143, 'گرفتمش': 1144, 'خیلیی': 1145, 'اطراف': 1146, 'نور': 1147, 'دل': 1148, 'پولم': 1149, 'میپره': 1150, 'کامنت': 1151, 'مثبتی': 1152, 'میتونی': 1153, 'بیاره': 1154, 'میخواید': 1155, 'میسلار': 1156, 'میذارم': 1157, 'میدونستم': 1158, 'میگرفتم': 1159, 'افته': 1160, 'مشخص': 1161, 'مهمتر': 1162, 'قبلیم': 1163, 'تایپ': 1164, 'جایزه': 1165, 'غذا': 1166, 'جزوه': 1167, 'پریم': 1168, 'سوار': 1169, 'بخواید': 1170, 'دندوناتون': 1171, 'هفتس': 1172, 'براشون': 1173, 'اصلیش': 1174, 'متناسب': 1175, 'میدین': 1176, 'نرید': 1177, 'جالبی': 1178, 'روکشش': 1179, 'فلزیه': 1180, 'باکیفیتیه': 1181, 'خودتون': 1182, 'بزارید': 1183, 'دراز': 1184, 'گیاه': 1185, 'میبرم': 1186, 'نساخت': 1187, 'زیرپوستی': 1188, 'زبر': 1189, 'مناسبش': 1190, 'هندزفری': 1191, 'جاهای': 1192, 'تونم': 1193, '14': 1194, 'قطرش': 1195, 'جوشام': 1196, 'ارگان': 1197, 'آزار': 1198, 'بازش': 1199, 'تبلت': 1200, 'نمیارزه': 1201, 'هیج': 1202, 'کمترین': 1203, 'پمپی': 1204, 'کالاهای': 1205, 'منتقل': 1206, 'پماد': 1207, 'نیوا': 1208, 'رغم': 1209, 'ابن': 1210, 'خنک': 1211, 'مصرفش': 1212, 'وسط': 1213, 'سلامت': 1214, 'میخورد': 1215, 'گوشیمو': 1216, 'اورال': 1217, 'تاییدیه': 1218, 'عالیی': 1219, 'اخه': 1220, 'معنای': 1221, 'ریمل': 1222, 'نمیزنم': 1223, 'سریش': 1224, 'پشیمونم': 1225, 'مشخصه': 1226, '17': 1227, 'برش': 1228, 'اندازش': 1229, 'عاالیه': 1230, 'شسته': 1231, 'اچ': 1232, 'هارد': 1233, 'گذشت': 1234, 'وصلش': 1235, 'دوامش': 1236, 'طراحیش': 1237, 'مواقع': 1238, 'دقیق': 1239, 'شست': 1240, 'کوتاهی': 1241, 'برید': 1242, 'بهبود': 1243, 'نزنه': 1244, 'خالی': 1245, 'موندم': 1246, 'اونها': 1247, 'پارابن': 1248, 'نقد': 1249, 'سوراخ': 1250, 'هوای': 1251, 'لپتاپم': 1252, 'نازکی': 1253, 'قوتی': 1254, 'اتفاق': 1255, 'نمیتونه': 1256, 'جک': 1257, 'زمین': 1258, '6': 1259, 'دیجیتال': 1260, '۱۳': 1261, 'کریستال': 1262, 'ناراضیم': 1263, 'اخر': 1264, 'خیس': 1265, 'تک': 1266, 'کرمو': 1267, 'چرم': 1268, 'دوبرابر': 1269, 'عااالی': 1270, 'سره': 1271, 'جوشها': 1272, 'دیگم': 1273, 'کافیه': 1274, 'عفونی': 1275, 'ایده': 1276, 'میگذره': 1277, 'رطوبت': 1278, 'اتصالات': 1279, 'حل': 1280, 'دربش': 1281, 'نمیگیره': 1282, 'نداشتن': 1283, 'همراهش': 1284, 'میشین': 1285, 'j7': 1286, 'یکدفعه': 1287, 'اندروید': 1288, 'خیل': 1289, 'ذوق': 1290, 'گرمیش': 1291, 'گیاهیه': 1292, 'سازگاری': 1293, 'آلودگی': 1294, 'pc': 1295, 'نامناسب': 1296, 'تخفیفی': 1297, 'ملایمه': 1298, 'انداز': 1299, 'چاپ': 1300, 'بویی': 1301, 'رقابت': 1302, 'صابونه': 1303, '50': 1304, 'حمل': 1305, 'اصلاح': 1306, 'میزد': 1307, 'ابرسان': 1308, 'اومدم': 1309, 'رفع': 1310, 'شاهد': 1311, 'حالی': 1312, 'کارت': 1313, 'کارو': 1314, 'پاوربانک': 1315, 'عبور': 1316, 'زاویه': 1317, 'ایوروشه': 1318, 'خواب': 1319, 'ملتهب': 1320, 'راستش': 1321, 'عملکردش': 1322, 'شارز': 1323, 'تقلبی': 1324, 'تازگی': 1325, 'ابرسانی': 1326, 'همونطور': 1327, 'پزشکم': 1328, 'زیادش': 1329, 'کدوم': 1330, 'خووبه': 1331, 'کابلش': 1332, 'آبیه': 1333, 'داشته_باشی': 1334, 'میزنید': 1335, 'خوشرنگ': 1336, 'دونستم': 1337, 'فصل': 1338, 'افتضاحه': 1339, 'مشتری': 1340, 'واقعیت': 1341, 'فرستادن': 1342, 'میکردن': 1343, 'میلی': 1344, 'گارنیه': 1345, 'عالین': 1346, 'کیفو': 1347, 'معلوم': 1348, 'مسافرت': 1349, 'نمیرسه': 1350, 'دارهمن': 1351, 'میام': 1352, 'خستگی': 1353, 'نکنن': 1354, 'طرز': 1355, 'شانه': 1356, 'کشیدن': 1357, 'خواهرم': 1358, 'ml': 1359, 'آبیش': 1360, 'دوش': 1361, 'دوستش': 1362, 'خریدنش': 1363, 'وا': 1364, 'ول': 1365, 'وصلی': 1366, 'تعریق': 1367, 'میگه': 1368, 'کیفی': 1369, 'دیدن': 1370, 'اونجوری': 1371, 'شیکی': 1372, 'مشکلش': 1373, 'زیباییه': 1374, 'خطوط': 1375, 'موجب': 1376, 'پیشگیری': 1377, 'فکرکنم': 1378, 'شبکه': 1379, 'فرستاده_شد': 1380, 'خوشی': 1381, 'بخرن': 1382, 'بگیرن': 1383, 'عاشق': 1384, 'عجیبی': 1385, 'آروم': 1386, 'ایسوس': 1387, 'جوری': 1388, 'زخیم': 1389, 'اهمیت': 1390, 'asus': 1391, '56': 1392, 'عجیبه': 1393, 'قابی': 1394, 'سفیده': 1395, 'شکر': 1396, 'ضخامتش': 1397, 'میخواین': 1398, 'بخواد': 1399, 'فوقالعاده': 1400, '8': 1401, 'میسوزه': 1402, 'مطلوب': 1403, 'کمیاب': 1404, 'هیچکدوم': 1405, 'برابری': 1406, 'انتظارم': 1407, 'ضعیفی': 1408, 'سومین': 1409, 'کپی': 1410, 'فیس': 1411, 'موهاتونو': 1412, 'لبتاب': 1413, 'خریدتون': 1414, 'بافتش': 1415, 'جذبش': 1416, 'اب': 1417, 'ضدریزش': 1418, 'ازدیجی': 1419, 'گشتم': 1420, 'بودش': 1421, 'غیره': 1422, 'اینجور': 1423, 'وبه': 1424, 'محترم': 1425, 'میشم': 1426, 'رطوبتش': 1427, 'افزار': 1428, 'رسان': 1429, 'دورچشم': 1430, 'گوله': 1431, '4k': 1432, 'خبری': 1433, 'داده_بودم': 1434, 'دندونی': 1435, 'همینو': 1436, 'تخصصی': 1437, 'اگزمای': 1438, 'دونم': 1439, 'تخم': 1440, 'شاداب': 1441, 'دستام': 1442, 'مال': 1443, 'مجدد': 1444, 'سانتی': 1445, 'جمع': 1446, 'بزنین': 1447, 'نکرده_بودم': 1448, 'اینقد': 1449, 'بعضیا': 1450, 'برداشت': 1451, 'چندسالی': 1452, 'متصل': 1453, 'خوره': 1454, 'دردی': 1455, 'اطمینان': 1456, 'پف': 1457, 'پژ': 1458, 'امید': 1459, 'تکان': 1460, 'خنکی': 1461, 'اقتصادی': 1462, 'اونقدر': 1463, 'پلاستیکیه': 1464, 'مغازه': 1465, 'ابر': 1466, 'برگشت': 1467, 'لانکوم': 1468, 'کابله': 1469, 'عمرش': 1470, 'فایل': 1471, 'موضوع': 1472, 'سانت': 1473, 'زبری': 1474, 'ابکشی': 1475, 'متشکرم': 1476, 'بردارید': 1477, 'محو': 1478, 'لباس': 1479, 'کسانیکه': 1480, 'گذاشت': 1481, 'ازبین': 1482, 'زیتون': 1483, 'مطابق': 1484, 'چیزه': 1485, 'دندانها': 1486, 'باقیمانده': 1487, 'فرستاده': 1488, 'سلیقه': 1489, 'شماره': 1490, 'بویه': 1491, 'قسمته': 1492, 'بعده': 1493, 'دوره': 1494, 'هرچقدر': 1495, 'چسبیده': 1496, 'متوسطی': 1497, 'خوبهدر': 1498, 'شکلی': 1499, 'بابتش': 1500, 'الیاف': 1501, 'دوستم': 1502, 'ال': 1503, 'فن': 1504, 'دلیلش': 1505, 'بدیه': 1506, 'چرمش': 1507, 'سورمه': 1508, 'میماند': 1509, 'pa': 1510, 'جمله': 1511, 'بنکیو': 1512, 'همیشگی': 1513, 'هوشمند': 1514, 'رنگای': 1515, 'تنوع': 1516, 'چسبش': 1517, 'ار': 1518, 'معنی': 1519, 'اورجینالیه': 1520, 'وفقط': 1521, '24': 1522, 'کارتن': 1523, 'داشتنی': 1524, 'ببینی': 1525, 'خواهش': 1526, 'موندگاره': 1527, 'میدهد': 1528, 'چراغ': 1529, 'c': 1530, '2020': 1531, 'دوفاز': 1532, 'بااین': 1533, 'واقا': 1534, 'بک': 1535, 'زنه': 1536, 'اکتی': 1537, 'پور': 1538, 'میله': 1539, 'خورده_بود': 1540, 'بدک': 1541, 'دستور': 1542, 'وازلین': 1543, 'محافظتی': 1544, 'خرابه': 1545, 'پولش': 1546, 'خیالتون': 1547, 'وحشتناکی': 1548, 'پذیره': 1549, 'اورژینال': 1550, 'اسمش': 1551, 'فراوان': 1552, 'قابش': 1553, 'نندازید': 1554, 'بگذره': 1555, 'سالها': 1556, 'واااااقعا': 1557, 'خارق': 1558, 'موفق': 1559, 'تز': 1560, 'مزیت': 1561, 'دروغه': 1562, 'تند': 1563, 'کنجد': 1564, 'سفیدی': 1565, 'نمیزند': 1566, 'زودی': 1567, 'عمرم': 1568, 'فرستاده_بود': 1569, 'غلیظه': 1570, 'رقیب': 1571, 'صفر': 1572, 'تصور': 1573, 'گذاشتمش': 1574, 'متاسفم': 1575, 'داخلشه': 1576, 'نخورید': 1577, 'موچین': 1578, 'چینی': 1579, 'خسته': 1580, 'تسکو': 1581, 'حمایت': 1582, 'استحکام': 1583, 'بدنش': 1584, 'درموردش': 1585, 'نداشته_باشید': 1586, 'التهاب': 1587, 'مخاط': 1588, 'یکهفته': 1589, 'راصی': 1590, 'نارگیل': 1591, 'خانومم': 1592, 'هایلایت': 1593, 'بودممتاسفانه': 1594, 'خییییلی': 1595, 'اینترنتی': 1596, 'کیو': 1597, 'عیب': 1598, 'سیگنال': 1599, 'میدن': 1600, 'اقدام': 1601, 'نمیدونستم': 1602, 'مخمله': 1603, 'بودممنون': 1604, 'ولوم': 1605, 'دستت': 1606, 'وتاثیر': 1607, 'انداخت': 1608, 'نمیکنید': 1609, 'گلاب': 1610, 'واقعیه': 1611, 'منظم': 1612, 'نمیماسه': 1613, 'هردو': 1614, 'کمال': 1615, 'درپوش': 1616, 'طوسی': 1617, 'کرمه': 1618, 'بطوریکه': 1619, 'خودمه': 1620, 'مزه': 1621, 'زدی': 1622, 'سریتا': 1623, 'پولیش': 1624, 'مامانم': 1625, 'ناباوری': 1626, 'انگشتو': 1627, 'بعدشم': 1628, 'روغنی': 1629, 'توخریدش': 1630, '25': 1631, 'روشنتر': 1632, 'نویس': 1633, 'نحو': 1634, 'احسنت': 1635, 'جانبی': 1636, 'طرحش': 1637, '2016': 1638, 'داروخونه': 1639, 'میگیرید': 1640, 'موجودش': 1641, 'اصله': 1642, 'احتیاج': 1643, 'بیرونی': 1644, 'بزرگترین': 1645, 'نایلون': 1646, 'صورتشون': 1647, 'سراغ': 1648, 'سیر': 1649, 'سولفات': 1650, 'نگرانم': 1651, 'کارش': 1652, 'خاموش': 1653, 'جیب': 1654, 'دردم': 1655, 'نوبت': 1656, 'سابقه': 1657, 'سرخابی': 1658, 'ضدجوش': 1659, 'شانس': 1660, 'خوراکی': 1661, 'خواهد_شد': 1662, 'اولن': 1663, 'مخملی': 1664, 'طرفی': 1665, 'کشیدم': 1666, 'موهاشونو': 1667, 'درخشش': 1668, 'کراتین': 1669, 'هرکاری': 1670, 'نشت': 1671, 'الآن': 1672, 'ادم': 1673, 'ازم': 1674, 'زوده': 1675, 'معرکه': 1676, 'اکسید': 1677, 'سالمه': 1678, 'شنیده_بودم': 1679, 'خیلییییی': 1680, 'ورقه': 1681, 'نمیدم': 1682, 'ماندگار': 1683, 'ونرم': 1684, 'زیرش': 1685, 'وعالی': 1686, 'بحال': 1687, 'خرج': 1688, 'پارگی': 1689, 'کنندگیشم': 1690, 'سوکتش': 1691, 'میارزه': 1692, 'بخر': 1693, 'ارزندس': 1694, 'شیائومی': 1695, 'شارژشم': 1696, 'سبز': 1697, 'اونیکی': 1698, 'کلیر': 1699, 'فیته': 1700, 'لقی': 1701, 'دیگش': 1702, 'ریسک': 1703, 'اونقدی': 1704, '۲۳': 1705, 'لیبل': 1706, 'حساب': 1707, 'میارن': 1708, 'مثال': 1709, 'یخورده': 1710, '۲تا': 1711, 'یکیش': 1712, 'پررنگ': 1713, 'حساسیتم': 1714, 'شامپوها': 1715, 'آلمان': 1716, '۱۰۰': 1717, 'کشور': 1718, 'چسبنده': 1719, 'خوشایندی': 1720, 'موهایی': 1721, 'دهیش': 1722, 'درمیاد': 1723, 'مرجوعش': 1724, 'تاثیرگذاری': 1725, 'تغذیه': 1726, 'برداریش': 1727, 'هروقت': 1728, 'شده_اند': 1729, 'کنندش': 1730, 'میریزه': 1731, 'سورپرایز': 1732, 'میشی': 1733, 'اتصالی': 1734, 'ذکر': 1735, 'مزیتش': 1736, 'شدست': 1737, 'میسازهنکته': 1738, 'منفیش': 1739, 'متغیر': 1740, 'بودهممنون': 1741, 'جهانی': 1742, 'ومناسب': 1743, 'جوشی': 1744, 'منصرف': 1745, 'ایکس': 1746, 'باکس': 1747, 'خرابی': 1748, 'خودکار': 1749, 'انرژی': 1750, 'دیتای': 1751, 'کرده_اند': 1752, 'آشنا': 1753, 'راک': 1754, 'عبارت': 1755, 'انکر': 1756, 'ampere': 1757, 'دیدش': 1758, 'گذاره': 1759, 'غلیظ': 1760, 'اشتباهی': 1761, 'بجای': 1762, 'واسم': 1763, 'منتظر': 1764, 'دوما': 1765, 'تیوپ': 1766, 'ضدافتاب': 1767, 'کاراملی': 1768, 'نوعش': 1769, 'کره': 1770, 'سهولت': 1771, 'متخصص': 1772, 'بازه': 1773, 'نوکس': 1774, 'راجبش': 1775, 'گندم': 1776, 'خصوص': 1777, 'مهمترین': 1778, 'شکی': 1779, 'هفتاد': 1780, 'میت': 1781, 'پرو': 1782, 'خوابیدن': 1783, 'ندیده': 1784, 'ارایشم': 1785, 'خرم': 1786, 'برخورد': 1787, 'ارزونه': 1788, 'نسیت': 1789, 'اساس': 1790, 'غیرقابل': 1791, 'همینطوری': 1792, 'نرسیده': 1793, 'میشدند': 1794, 'خوشرنگی': 1795, 'ماته': 1796, 'خشکش': 1797, 'قیژ': 1798, 'گلیس': 1799, 'پوستش': 1800, 'پنجمین': 1801, 'شن': 1802, 'کشیده': 1803, '۵۰': 1804, 'دلم': 1805, 'نمیخواد': 1806, 'بطری': 1807, 'نشتی': 1808, 'بلایی': 1809, 'یکمی': 1810, 'نقره': 1811, 'کرک': 1812, 'بوعه': 1813, 'حساسن': 1814, 'خوبیم': 1815, 'مقدارش': 1816, 'عالیهمن': 1817, 'میبینه': 1818, 'فرو': 1819, 'نمیره': 1820, 'روانتخاب': 1821, 'مشخصاتش': 1822, 'سفیدکنندگی': 1823, 'قد': 1824, 'ایرادش': 1825, 'راضیه': 1826, '75': 1827, 'جراحی': 1828, 'بوده_است': 1829, 'رده': 1830, 'دندونام': 1831, 'خاکستری': 1832, 'سنگینه': 1833, 'مجعد': 1834, 'رنگو': 1835, 'منفی': 1836, 'تحمل': 1837, 'پیغام': 1838, 'پیام': 1839, 'هوا': 1840, 'میخری': 1841, 'huawei': 1842, 'اینبار': 1843, 'درمانش': 1844, 'اصن': 1845, 'مکنم': 1846, 'عریض': 1847, 'کناره': 1848, 'بحث': 1849, 'موثرترین': 1850, 'گذاشتید': 1851, 'بلندی': 1852, 'نمیزنید': 1853, 'تولیدش': 1854, 'انقضاش': 1855, 'نمیشین': 1856, 'بشم': 1857, 'هفتست': 1858, 'ارسالی': 1859, 'ور': 1860, 'قهوه': 1861, 'بدونیدش': 1862, 'پاسخگو': 1863, '۳۰': 1864, 'نمیباشد': 1865, 'بیخود': 1866, 'ظریف': 1867, 'ابعادش': 1868, 'همونیه': 1869, 'الرژی': 1870, 'چیش': 1871, 'مناسبیه': 1872, 'دووم': 1873, 'مرده': 1874, 'کارا': 1875, 'فول': 1876, 'کلاسیک': 1877, 'جاداره': 1878, 'کمکی': 1879, 'میبرید': 1880, 'مک': 1881, 'میز': 1882, 'n': 1883, 'jk': 1884, 'لپتاپهای': 1885, '16': 1886, 'چهل': 1887, 'خواص': 1888, 'چین': 1889, 'ipad': 1890, 'iphone': 1891, 'یکساله': 1892, 'تعویض': 1893, 'وسواس': 1894, 'جلوه': 1895, 'مرغوب': 1896, 'نمیتونید': 1897, 'ظرافت': 1898, 'خدارو': 1899, 'بینظیره': 1900, 'مرغوبی': 1901, 'ماسکهای': 1902, 'بزارم': 1903, 'اوریجینال': 1904, 'حروم': 1905, 'آوردم': 1906, 'ساختش': 1907, 'اونه': 1908, 'لازمه': 1909, 'لی': 1910, 'خییلی': 1911, 'مارکهای': 1912, 'سوتینگ': 1913, 'تردید': 1914, 'صابونی': 1915, 'وزی': 1916, 'خوبیش': 1917, 'آف': 1918, 'ضخیمه': 1919, 'حوصله': 1920, 'ارزششو': 1921, 'میکتم': 1922, 'سفیدشو': 1923, 'نزنم': 1924, 'سرد': 1925, '۷۵': 1926, '۳۵': 1927, 'چندانی': 1928, 'ازاین': 1929, 'باکیفیتی': 1930, 'شامپوییه': 1931, 'اطلاع': 1932, 'امکانات': 1933, '۱۴': 1934, 'آستر': 1935, 'حساسم': 1936, 'امتیاز': 1937, 'جدی': 1938, 'جان': 1939, 'بیشترش': 1940, 'میشهولی': 1941, 'شرایط': 1942, 'متوسط': 1943, 'بااینکه': 1944, 'میذاره': 1945, 'شوق': 1946, 'نخورده_بود': 1947, 'ببینم': 1948, 'جوشهای': 1949, 'اولی': 1950, 'آبکشی': 1951, 'فریمن': 1952, 'هرکسی': 1953, 'همونه': 1954, 'بگردم': 1955, 'جایگزینش': 1956, 'دلخواه': 1957, 'مارکت': 1958, '۲بار': 1959, 'له': 1960, 'صورتتونو': 1961, 'بذارید': 1962, 'نو': 1963, 'نگهداری': 1964, 'خودمون': 1965, 'مراقب': 1966, 'مضر': 1967, 's8': 1968, 'زنده': 1969, 'پوستت': 1970, 'مسخره': 1971, 'وانیل': 1972, 'پاکسازی': 1973, 'فشاری': 1974, 'اینجوری': 1975, 'شدگی': 1976, 'سوخته': 1977, 'وبا': 1978, 'محافظتش': 1979, 'جوابگو': 1980, 'دوسه': 1981, 'شگفتانگیز': 1982, 'بخریدش': 1983, 'آکبند': 1984, 'میدونم': 1985, 'کلمه': 1986, 'تاثیراتش': 1987, 'عالییی': 1988, 'هستین': 1989, 'کلیون': 1990, 'هندی': 1991, 'تیوبی': 1992, 'کابلو': 1993, 'قیمیت': 1994, 'تقاضا': 1995, 'جانسون': 1996, 'نکنین': 1997, 'نزدم': 1998, 'بیشترم': 1999, 'میلیا': 2000, 'نقش': 2001, 'گندمی': 2002, 'برروی': 2003, 'خییلییی': 2004, 'hd': 2005, 'بتونن': 2006, 'معطر': 2007, 'رنگیشو': 2008, 'ایمن': 2009, 'نی': 2010, 'جایگزین': 2011, 'جلب': 2012, 'متوسطه': 2013, 'چیزایی': 2014, 'درخت': 2015, 'بشورید': 2016, 'اسیدی': 2017, 'دندانی': 2018, 'فورا': 2019, 'خوشبوه': 2020, 'عدد': 2021, 'قوطی': 2022, 'کاراییش': 2023, 'مبلغی': 2024, 'جوشا': 2025, 'ریخته': 2026, 'کمر': 2027, 'سنتی': 2028, 'اشنا': 2029, 'یکدست': 2030, 'نتونستم': 2031, 'دودل': 2032, 'جوریه': 2033, 'باورم': 2034, 'رشد': 2035, 'زینک': 2036, 'زیباس': 2037, 'خار': 2038, 'micro': 2039, 'بیارم': 2040, 'مدلش': 2041, 'نری': 2042, 'کاورهای': 2043, 'میگردین': 2044, 'اونا': 2045, 'نخورده': 2046, 'میکنهممنون': 2047, 'سطل': 2048, 'فیلم': 2049, 'خانواده': 2050, 'تونستم': 2051, 'دومه': 2052, 'بدش': 2053, 'بدونید': 2054, 'آبرسانیش': 2055, 'دنبالش': 2056, 'لاستیک': 2057, 'بینظیر': 2058, 'واضح': 2059, 'باتجویز': 2060, 'آیپد': 2061, '18': 2062, 'امد': 2063, '۲۰۰': 2064, 'صورتش': 2065, 'محدود': 2066, 'نحوه': 2067, 'آسیبی': 2068, 'تصویری': 2069, 'تیز': 2070, 'برده': 2071, 'غلظتش': 2072, 'ph': 2073, 'ساختار': 2074, 'ضعفی': 2075, 'وان': 2076, 'اخ': 2077, 'موم': 2078, 'پرز': 2079, 'خیلییی': 2080, 'اسکراپ': 2081, 'دانه': 2082, 'بطوری': 2083, 'دایو': 2084, 'کانن': 2085, 'شبها': 2086, 'ضعیفش': 2087, 'درنتیجه': 2088, 'بیارد': 2089, 'نکات': 2090, 'ضخامت': 2091, 'یدونه': 2092, 'شکسته_شد': 2093, 'خریدو': 2094, 'موج': 2095, '۱۶': 2096, 'کرده_است': 2097, 'وظیفه': 2098, 'کشی': 2099, 'باطری': 2100, 'مدلی': 2101, 'عاشقشم': 2102, '۴۰': 2103, 'ریختنه': 2104, 'کوچکی': 2105, 'مارکای': 2106, 'صدارو': 2107, 'شناسایی': 2108, 'سازه': 2109, 'بشی': 2110, 'ولتاژ': 2111, 'charge': 2112, 'صورتیشو': 2113, 'دیگشو': 2114, 'جوره': 2115, 'خاویار': 2116, 'لوگو': 2117, 'میفروشن': 2118, 'کالاست': 2119, 'plus': 2120, 'هییییچ': 2121, 'نرمال': 2122, 'کلید': 2123, 'میشوند': 2124, 'بیدار': 2125, 'کابلیه': 2126, 'ثابت': 2127, 'چندمین': 2128, 'روغنه': 2129, 'بکنه': 2130, 'راجع': 2131, 'مراقبتی': 2132, 'ولنسی': 2133, 'بررسی': 2134, 'ساقه': 2135, 'کارخونه': 2136, 'انتظاری': 2137, 'اگاهی': 2138, 'رایحش': 2139, 'ناژه': 2140, 'دارو': 2141, 'شارژه': 2142, 'نگفته': 2143, 'خوبهنرم': 2144, 'میکنهخیلی': 2145, 'چندبار': 2146, 'نا': 2147, 'فرد': 2148, 'مانیتورو': 2149, 'جدیدی': 2150, 'لافارر': 2151, 'خوشگلی': 2152, 'دوستی': 2153, 'چیزش': 2154, 'ناموجود': 2155, 'باله': 2156, 'مختلفی': 2157, 'آنچنانی': 2158, 'خدایی': 2159, 'کارآمد': 2160, 'تلویزیون': 2161, 'نرفت': 2162, 'بخونن': 2163, 'صدمه': 2164, 'نگهدارنده': 2165, 'نرمه': 2166, 'خم': 2167, 'میپسندم': 2168, 'بعدی': 2169, 'تایی': 2170, 'سودا': 2171, 'تستش': 2172, 'متأسفانه': 2173, 'ناخنای': 2174, 'u': 2175, 'چراغش': 2176, 'پیچیده': 2177, 'کت': 2178, 'تای': 2179, 'بدست': 2180, 'عالییییی': 2181, 'مژه': 2182, 'بتونه': 2183, 'خوشکله': 2184, 'نفس': 2185, 'ندادن': 2186, 'سپاس': 2187, 'نمیداد': 2188, 'تایید': 2189, 'دستش': 2190, 'اونجایی': 2191, 'سلاممن': 2192, 'بردم': 2193, 'ذغال': 2194, 'پوستشون': 2195, 'انگیزش': 2196, 'پرش': 2197, 'تلوزیون': 2198, 'ماهها': 2199, 'شهر': 2200, 'لنز': 2201, 'otg': 2202, 'آدرا': 2203, 'گالری': 2204, 'ادکلن': 2205, 'ارزنده': 2206, 'ازهمه': 2207, 'بالاش': 2208, 'میرسد': 2209, 'پیداش': 2210, 'سپتونا': 2211, 'میزنی': 2212, 'میماسه': 2213, 'مونه': 2214, 'تاشو': 2215, 'ایشالا': 2216, 'بخری': 2217, 'لورآل': 2218, 'خانگیه': 2219, 'زخم': 2220, '۹۰': 2221, 'زبون': 2222, 'بهاش': 2223, 'وضوح': 2224, 'بریدم': 2225, 'شانسی': 2226, 'کشوی': 2227, 'استند': 2228, 'حدودی': 2229, 'زوارش': 2230, 'لیسترین': 2231, 'مرغی': 2232, 'xxs': 2233, 'بشوری': 2234, 'معمولیشو': 2235, 'اوایلش': 2236, 'چروکهای': 2237, '۳۴': 2238, 'گرفتمظاهرش': 2239, 'لبش': 2240, 'شکست۵': 2241, 'کنهو': 2242, 'صورتتکاور': 2243, 'برنزم': 2244, 'یهدرجه': 2245, 'گندمیای': 2246, 'سمتش': 2247, 'نمیرم': 2248, 'دوبارهبرخلاف': 2249, 'بینیتون': 2250, 'متنفرید': 2251, 'نگهدارینده': 2252, 'محفظهی': 2253, 'اشکیمانند': 2254, 'پیوردرم': 2255, 'شیشهی': 2256, 'بهصورت': 2257, 'چوبپنبهای': 2258, 'صحت': 2259, 'کاغذیه': 2260, 'شباهت': 2261, 'مدارس': 2262, 'شایسته': 2263, 'اجناس': 2264, 'طلقهکلا': 2265, 'ازنظرکیفیت': 2266, 'جلویضربه': 2267, 'سیدی': 2268, 'همگرفته': 2269, 'مالیدی': 2270, 'بود۲': 2271, 'دیدی': 2272, 'طرق': 2273, 'آوری': 2274, 'نانو': 2275, 'گوتاهترین': 2276, 'دارنده': 2277, 'متمایل': 2278, 'اصالیش': 2279, 'هستمتخفیف': 2280, 'هستهم': 2281, 'ازشنسبت': 2282, 'العادسحتی': 2283, 'ببینینمچککرم': 2284, 'بسیارخوبیه': 2285, 'باحالی': 2286, 'مشخصاتی': 2287, 'سان': 2288, 'سنس': 2289, 'ماسازشسته': 2290, 'ایپک': 2291, 'دوستداشتنیه': 2292, 'مانیتورهای': 2293, 'شیستم': 2294, 'هماهنگی': 2295, 'صفحهاش': 2296, 'خودکودکان': 2297, 'ایدهآل': 2298, 'قشنگن': 2299, 'زغال': 2300, 'کرده_بودند': 2301, 'زده_شدم': 2302, 'بغل': 2303, 'انتن': 2304, 'فرانسوی': 2305, 'فلوئیدی': 2306, 'مینداخت': 2307, 'اسامی': 2308, 'grnd': 2309, 'perym': 2310, 'افتضاحبه': 2311, 'کلمهجوش': 2312, 'میکنهاحساس': 2313, 'ظرفشویی': 2314, 'زنیمن': 2315, 'گذاشتمتعجب': 2316, 'بودنعزیزان': 2317, 'موثرهپس': 2318, 'هماهنگ': 2319, 'روانی': 2320, 'حنا': 2321, 'نفعش': 2322, 'طلسم': 2323, 'نداده': 2324, 'سرزندگی': 2325, 'آینه': 2326, 'قیمتو': 2327, 'بتونیم': 2328, 'بدیم': 2329, 'بن': 2330, 'همینی': 2331, 'نیستکاملا': 2332, 'تاثیرگذاره': 2333, 'هلومن': 2334, 'العادش': 2335, 'خرد': 2336, 'میریخت': 2337, 'نمود': 2338, 'انسان': 2339, 'خیلییییییی': 2340, 'الودگی': 2341, 'ضدآب': 2342, 'انتخابت': 2343, 'type': 2344, 'درج': 2345, 'اصلش': 2346, 'بدنبال': 2347, 'عالیهطی': 2348, 'نوار': 2349, 'بال': 2350, 'ایدهی': 2351, 'آرایشم': 2352, 'واتر': 2353, 'میکنهدوفاز': 2354, 'نلی': 2355, 'اندازشم': 2356, 'بدمدرکل': 2357, 'گرانتر': 2358, '۱سال': 2359, 'کیقیتش': 2360, 'جذاب': 2361, 'مینی': 2362, 'یواس': 2363, 'عااالیهههه': 2364, 'واقن': 2365, 'میشههه': 2366, 'بازیافتیه': 2367, 'نفطه': 2368, 'رسیدمدتیه': 2369, 'کانلا': 2370, 'بینظیری': 2371, 'دارهبه': 2372, 'بارم': 2373, 'آپ': 2374, 'واستون': 2375, 'مطمین': 2376, 'گوشیمه': 2377, 'اینکخ': 2378, 'ماسید': 2379, 'bb': 2380, 'cream': 2381, 'اونطور': 2382, 'کاربرد': 2383, 'آماتور': 2384, 'کردنps4': 2385, '۸۹': 2386, 'تومنه': 2387, '۳۰۰': 2388, 'قاطی': 2389, 'موهایه': 2390, 'آدامسی': 2391, 'مکمل': 2392, 'خوبهکلان': 2393, 'میبایست': 2394, 'حدتقل': 2395, 'چسبیدن': 2396, 'بهشون': 2397, 'برگشتم': 2398, 'وشستمش': 2399, 'وماسک': 2400, 'هیچگون': 2401, 'بسیا': 2402, 'مواجهه': 2403, 'کاربری': 2404, 'موخره': 2405, 'استیل': 2406, 'ریشم': 2407, 'اوردن': 2408, 'انداختید': 2409, 'لیز': 2410, 'انتخابش': 2411, 'موافقم': 2412, 'شاقی': 2413, 'ببره': 2414, 'نبرد': 2415, 'جوان': 2416, 'آبرسانه': 2417, 'باور': 2418, 'نکردنیه': 2419, 'حکم': 2420, 'دارههیچ': 2421, 'حفاظتی': 2422, 'ناخناز': 2423, 'گلدن': 2424, 'رز': 2425, 'معتبری': 2426, 'قدرتمند': 2427, 'پاست': 2428, 'کنجده': 2429, 'نمیخورهچون': 2430, 'شارژمو': 2431, 'نمیشهوسر': 2432, 'فنر': 2433, 'باشهوخوب': 2434, 'میکنهتو': 2435, 'خریدمنسبت': 2436, 'ایرپادها': 2437, 'آویز': 2438, 'جاکلیدی': 2439, 'سبزآبی': 2440, 'ندیده_بودم': 2441, 'سرعتشم': 2442, 'بزرگسال': 2443, 'تیزی': 2444, 'مینشیند': 2445, 'گلمر': 2446, 'ایشنهاد': 2447, 'دیده_ای': 2448, 'دیده_بود': 2449, 'کرونترین': 2450, 'آگرادو': 2451, 'غلطت': 2452, 'غلیط': 2453, 'بخورین': 2454, 'میدهقشنگه': 2455, 'نخورترین': 2456, 'جایگاه': 2457, 'شرکتی': 2458, 'قلب': 2459, 'گذاشته_بود': 2460, 'منفیای': 2461, 'آبرسانیشم': 2462, 'میتوانست': 2463, 'باشع': 2464, 'اعتراضی': 2465, 'اطرافش': 2466, 'مانندش': 2467, 'میشهاصلا': 2468, 'ریختید': 2469, 'حالم': 2470, 'تاپتون': 2471, 'ultrabook': 2472, 'میشهاما': 2473, 'برمیخورین': 2474, 'جفتشون': 2475, 'برگردونین': 2476, 'همینجور': 2477, 'هواست': 2478, 'بیس': 2479, 'چیزهای': 2480, 'دوساله': 2481, 'مینداختن': 2482, 'ظاهرشو': 2483, 'مانیکور': 2484, 'میتوان': 2485, 'استدر': 2486, 'ماتهجای': 2487, 'پریدن': 2488, 'استون': 2489, 'برخورداره': 2490, 'پراز': 2491, 'نمیزاره': 2492, 'پلاایکه': 2493, 'مرغوبه': 2494, 'نظرهای': 2495, 'بجایی': 2496, 'کندی': 2497, 'ویندوز': 2498, 'دیتاپرژکتور': 2499, 'متعادل': 2500, 'درونش': 2501, 'شخصیت': 2502, 'شله': 2503, 'عیبی': 2504, 'تعریقبراحتی': 2505, 'التیام': 2506, 'آلوئه': 2507, 'کهیر': 2508, 'سراغش': 2509, 'وکلا': 2510, 'خالیه': 2511, 'فروشندگان': 2512, 'سادش': 2513, 'خوردنی': 2514, 'نمیرود': 2515, 'کالاها': 2516, 'میتونیم': 2517, 'معطره': 2518, 'شوکه': 2519, 'نمیخرم': 2520, 'مدلشم': 2521, 'برزگ': 2522, 'خال': 2523, 'نمیتوایم': 2524, 'فروشگاها': 2525, 'کتیم': 2526, 'بوددمیج': 2527, 'نبودفقط': 2528, 'نداشتنرم': 2529, 'موتورولا': 2530, 'کابلمم': 2531, 'تخفیفات': 2532, 'بزارین': 2533, 'تخفیفاتون': 2534, 'مایه': 2535, 'یاسیه': 2536, 'اردیبهشت': 2537, 'فوشندگانی': 2538, 'جنسی': 2539, 'دارا': 2540, 'مودن': 2541, 'ثبت': 2542, 'امریکا': 2543, 'hypershop': 2544, 'ارزونترهاز': 2545, 'امریکارو': 2546, 'روواقعا': 2547, 'خوبتون': 2548, 'نیوفته': 2549, 'زدودن': 2550, 'صادقانه': 2551, 'میکروفون': 2552, 'مخمل': 2553, 'بگیره': 2554, 'کرما': 2555, 'فکرم': 2556, 'بالاشه': 2557, 'داشته_باشم': 2558, 'تعمیراتش': 2559, 'بدنیست': 2560, 'تفاوتی': 2561, 'سوتکش': 2562, 'خالص': 2563, 'زوایای': 2564, 'کاربر': 2565, 'مردونه': 2566, 'درگاها': 2567, 'موکول': 2568, 'بوف': 2569, 'کاورهایی': 2570, 'ترد': 2571, 'چیکار': 2572, 'آلکالاین': 2573, 'قدرتش': 2574, 'کاشتمو': 2575, 'ژلو': 2576, 'بافر': 2577, 'بعدم': 2578, 'یدکش': 2579, 'یکیم': 2580, 'باریکتر': 2581, 'میبود': 2582, 'ناخنم': 2583, 'دندانه': 2584, 'تکونی': 2585, 'ایش': 2586, 'کد': 2587, 'qr': 2588, 'اصالت': 2589, 'برسی': 2590, 'گند': 2591, 'دونش': 2592, 'اکلیلی': 2593, 'زده_بودم': 2594, 'پدتون': 2595, 'میندازید': 2596, 'سیستم': 2597, 'کامپیوتری': 2598, 'شناخت': 2599, 'برنزه': 2600, 'چندماهه': 2601, 'میکن': 2602, 'کدها': 2603, 'سیستمم': 2604, 'عهده': 2605, 'ugreen': 2606, 'باندازه': 2607, '۱۴۰۱': 2608, 'ستش': 2609, 'کامله': 2610, 'اکسترنال': 2611, 'تاییده': 2612, 'صالوت': 2613, 'نمیدشم': 2614, 'بش': 2615, 'a5': 2616, 'فعلی': 2617, 'سیاهی': 2618, 'سیگار': 2619, '۳بار': 2620, 'میرسونه': 2621, 'عروسی': 2622, 'مهمونی': 2623, 'بدمولی': 2624, 'صنعتی': 2625, 'ماندگاربوی': 2626, 'استری': 2627, 'دوختن': 2628, 'شده_بودند': 2629, 'لیزم': 2630, 'آلوورا': 2631, 'هرماه': 2632, 'آلورا': 2633, 'گوش': 2634, 'صحفه': 2635, 'تماام': 2636, 'اینجاد': 2637, 'حباب': 2638, 'بندازی': 2639, 'بچسبونی': 2640, 'دستو': 2641, 'اه': 2642, 'نیمخوره': 2643, 'بشورم': 2644, 'یی': 2645, 'هندمندانه': 2646, 'روبروی': 2647, 'هدایت': 2648, 'کاربردییه': 2649, 'نمیفته': 2650, 'شکقت': 2651, 'فضای': 2652, 'دوختشم': 2653, 'بندهاشم': 2654, 'مشوی': 2655, 'مراقبت': 2656, 'خوبهاما': 2657, 'بستن': 2658, 'شلوار': 2659, 'نخررید': 2660, 'کیبوردش': 2661, 'حروف': 2662, 'فارسی': 2663, 'شیر': 2664, 'فاربن': 2665, 'صخره': 2666, 'احترام': 2667, 'نداشتبرای': 2668, 'دفعات': 2669, 'معمولش': 2670, 'بریزه': 2671, 'نیفته': 2672, 'قرمزترهجنس': 2673, 'همراهتون': 2674, 'افتضاحاصلاااااا': 2675, 'ندرت': 2676, 'نده': 2677, 'نمیتونن': 2678, 'بریزن': 2679, 'دوتایی': 2680, 'بصرفس': 2681, 'وبرای': 2682, 'راهنمایی': 2683, 'میخواهند': 2684, 'بخرند': 2685, 'ومنافذ': 2686, 'باذ': 2687, 'مسلم': 2688, 'سرمش': 2689, 'والان': 2690, 'ودوماه': 2691, 'آینده': 2692, 'گن': 2693, 'flat': 2694, 'اینطوری': 2695, 'مایکرو': 2696, 'پرت': 2697, 'گوشیچقد': 2698, 'داستان': 2699, 'گفتمبخرین': 2700, 'ترند': 2701, 'پرهیز': 2702, 'میگذارند': 2703, 'محافظی': 2704, 'غیرممکنه': 2705, 'لبخند': 2706, 'چهارروزه': 2707, 'نکینید': 2708, 'اختیاریه': 2709, 'باسئوس': 2710, 'رهام': 2711, 'آنتن': 2712, 'هوایی': 2713, 'خریدمشمن': 2714, 'خوردمپشتش': 2715, 'بوداین': 2716, 'بزنیم': 2717, 'خریدار': 2718, 'بینقصه': 2719, 'دوختش': 2720, 'مکبوک': 2721, 'اذیتم': 2722, 'نرو': 2723, 'اونهایی': 2724, 'ic': 2725, 'ایتالیایی': 2726, 'نامناسبهاز': 2727, 'فروشندست': 2728, 'خیای': 2729, 'همینجوری': 2730, 'میریزع': 2731, 'کردنخیلی': 2732, '۲۱': 2733, 'میزنمچربیش': 2734, 'میمونهمن': 2735, 'ندیدمفقط': 2736, 'نمیکنهاصلا': 2737, 'چرمه': 2738, 'لاکی': 2739, 'پوستهامتفاوت': 2740, 'باشهبرای': 2741, 'خزیدش': 2742, 'میدهالبته': 2743, 'بموقع': 2744, 'نارنجیشو': 2745, 'نما': 2746, 'یزره': 2747, 'دس': 2748, 'باهش': 2749, 'مرد': 2750, 'مویم': 2751, 'میرن': 2752, 'نمیزنی': 2753, 'آخره': 2754, 'عالیهههههههه': 2755, 'نمایندگی': 2756, 'بندرعباس': 2757, 'بعد6': 2758, 'ماسکای': 2759, 'فریمنو': 2760, 'تصمیمرفتم': 2761, 'تندی': 2762, 'بسوزه': 2763, 'ماسکاشو': 2764, 'ایشو': 2765, 'تاثیره': 2766, 'جزئی': 2767, 'داروش': 2768, 'عالیخیلی': 2769, 'خیلس': 2770, 'شاری': 2771, 'خریدمخیلی': 2772, 'تمییزهجنسش': 2773, 'عاااالیهحتما': 2774, 'دوسر': 2775, 'شکلات': 2776, 'ناراحتم': 2777, 'پیشنهاده': 2778, 'وجاش': 2779, 'نوشتهارو': 2780, 'وشرکت': 2781, 'پاکش': 2782, 'پرباشه': 2783, 'وبسیارموهارو': 2784, 'پذیرمیشن': 2785, 'واگه': 2786, 'ضده': 2787, 'عده': 2788, 'اعتبار': 2789, 'اداپتور': 2790, 'گاردم': 2791, 'واس': 2792, 'کوه': 2793, 'بگی': 2794, 'غلطک': 2795, 'خوبیهبه': 2796, 'خاطرش': 2797, 'مناسبهبرا': 2798, 'میفتهمن': 2799, 'ندادالبته': 2800, 'عوارض': 2801, 'mfi': 2802, 'پروژکتور': 2803, 'دوفازهایی': 2804, 'رسانیش': 2805, 'شکاف': 2806, 'کرمها': 2807, 'عالیهنرم': 2808, 'خوبتمیز': 2809, 'العادهمن': 2810, 'چنتاشو': 2811, 'حتمأ': 2812, 'بهترهم': 2813, 'میکنمدهانشویه': 2814, 'عالیهمشکل': 2815, 'کردقیمتشم': 2816, 'اقتصادیهحتما': 2817, 'اصلانخرید': 2818, 'ممنونممارک': 2819, 'چسبوندمش': 2820, 'ببر': 2821, 'عیبش': 2822, 'بودنه': 2823, 'کیفه': 2824, 'ابتدایی': 2825, 'دوشته': 2826, 'سراسری': 2827, 'لپتاپه': 2828, 'تاپه': 2829, 'وپاشنه': 2830, 'پارو': 2831, 'می5': 2832, 'شارژهم': 2833, 'خوبهسوکت': 2834, 'گذینه': 2835, 'کنمیدونستم': 2836, 'کلین': 2837, 'خریدام': 2838, 'کردتشکر': 2839, 'ایرپاد': 2840, 'میشهاین': 2841, 'هسا': 2842, 'مجاب': 2843, 'رسیدن': 2844, 'galaxy': 2845, 'j5': 2846, 'مطرح': 2847, 'واریز': 2848, 'کابلها': 2849, 'آواژنگ': 2850, 'زدنی': 2851, 'fd': 2852, 'اولس': 2853, 'تبلتم': 2854, 'جرقه': 2855, 'ذوب': 2856, 'دود': 2857, 'پیشنهادنمیکنم': 2858, 'برجسته': 2859, 'قیمتشه': 2860, 'خریدمشو': 2861, 'یبهتر': 2862, 'بلا': 2863, 'سوراخهای': 2864, 'فینگر': 2865, 'فلاش': 2866, 'تعبیه': 2867, 'تطابق': 2868, 'وچند': 2869, 'زا': 2870, 'روجعبه': 2871, '۱۳۵': 2872, 'روسیه': 2873, 'عربیه': 2874, 'بدبوییه': 2875, 'ابتدای': 2876, 'بلندند': 2877, 'پایینشون': 2878, 'ازونجایی': 2879, 'پوستتونه': 2880, 'ازونجا': 2881, 'نسبیه': 2882, 'کتبل': 2883, 'اندک': 2884, 'حرکتی': 2885, 'خیلیاشون': 2886, 'آشنایی': 2887, 'بهترینا': 2888, 'رادیکال': 2889, 'آزاد': 2890, 'rt': 2891, 'lt': 2892, 'پدالی': 2893, 'ipega': 2894, 'میزند': 2895, 'منصفانه': 2896, 'دلایلی': 2897, 'یسری': 2898, 'اشکاله': 2899, 'بودخیلیم': 2900, 'آرامبخشه': 2901, 'ساعاتی': 2902, 'مشخصی': 2903, 'مارکی': 2904, 'داو': 2905, 'انگاری': 2906, 'تومنی': 2907, 'مالیدم': 2908, '135': 2909, 'مگنت': 2910, 'اسان': 2911, 'فرمیه': 2912, 'چشمگیری': 2913, 'رسیدبرای': 2914, 'درنمیادبعد': 2915, 'آکنه': 2916, 'نمکنید': 2917, 'شرکته': 2918, 'دنیاست': 2919, 'بذاریدش': 2920, 'باتلر': 2921, 'پیروز': 2922, 'هموطن': 2923, 'بازیارو': 2924, 'شناسیی': 2925, 'نداشتبر': 2926, 'ارزانی': 2927, 'مانیتورم': 2928, 'نورش': 2929, 'مسئله': 2930, 'منبع': 2931, 'کیس': 2932, 'دهندگی': 2933, 'نسل': 2934, 'صنعت': 2935, 'آرایشگری': 2936, 'موزیک': 2937, '03': 2938, '4ماه': 2939, 'دلنشینه': 2940, 'عاشقش': 2941, 'لاکا': 2942, 'کردو': 2943, 'انتهایی': 2944, 'کردنخش': 2945, 'نمیشهدر': 2946, 'اسنانس': 2947, 'ارز': 2948, 'oralb': 2949, 'floss': 2950, 'پراید': 2951, 'بنزه': 2952, 'گوشیها': 2953, 'زودیا': 2954, 'بانیان': 2955, 'فته': 2956, 'کانکتورها': 2957, 'باطل': 2958, 'قعطی': 2959, 'بزرگیه': 2960, 'کیفیتو': 2961, 'پستی': 2962, 'قیمتم': 2963, 'العادسحتما': 2964, 'خوشبوعه': 2965, 'انعطافپذیری': 2966, 'اشو': 2967, 'وشکسته': 2968, 'بودکاملا': 2969, 'اصول': 2970, 'بسرعت': 2971, 'صورتای': 2972, 'سرخ': 2973, 'تسکین': 2974, 'بهیچ': 2975, 'نشسته_باشید': 2976, 'مختلفشو': 2977, 'خانمم': 2978, 'کیفش': 2979, 'بجه': 2980, 'گازش': 2981, 'خللی': 2982, 'نیوفتاده': 2983, 'خودشم': 2984, 'پسر': 2985, 'الحمدلله': 2986, 'حواسم': 2987, 'شلکس': 2988, 'بفرستن': 2989, 'دندونامو': 2990, 'دهن': 2991, 'بودممخصوصا': 2992, 'مکان': 2993, 'ناحیه': 2994, 'پاکنندگی': 2995, 'نچسبیده': 2996, 'روشه': 2997, 'میکنمش': 2998, 'چربیه': 2999, 'کیفبت': 3000, 'ارزشمند': 3001, 'کارکرده': 3002, 'ویشی': 3003, 'جرات': 3004, 'بهتریناس': 3005, 'آفتابه': 3006, 'رسیدم': 3007, 'ودوبرابر': 3008, 'واقعن': 3009, 'spf': 3010, '2بار': 3011, 'غربی': 3012, 'تبلیغ': 3013, 'نکاتی': 3014, 'نعناع': 3015, 'پورتئین': 3016, 'نعناش': 3017, 'حیاتی': 3018, 'شرکتهای': 3019, 'علاقه': 3020, 'وافری': 3021, 'غافل': 3022, 'سبب': 3023, 'کمبود': 3024, 'جانبیشه': 3025, 'خوانوادگی': 3026, 'موهامون': 3027, 'بعغی': 3028, 'مخالف': 3029, 'میشکستند': 3030, 'موثریه': 3031, 'رویی': 3032, 'کهنه': 3033, 'کاراییشه': 3034, 'رسیده_بود': 3035, 'گوشیمم': 3036, '6اس': 3037, 'پاورم': 3038, '21': 3039, 'عااالیه': 3040, 'حتمن': 3041, 'نخهای': 3042, 'قیمتهای': 3043, 'نجومی': 3044, 'یادش': 3045, 'بخیر': 3046, 'نشود': 3047, 'پرایمر': 3048, 'hp': 3049, 'ننوشته_بود': 3050, 'فوکس': 3051, 'راضیمفوق': 3052, 'فلسفه': 3053, 'مغناطیسی': 3054, 'مبهمه': 3055, 'خوبهروپوست': 3056, 'دروغ': 3057, 'قرمزشم': 3058, 'بقیشو': 3059, 'اوناهم': 3060, 'بخای': 3061, 'ترکیبش': 3062, 'درس': 3063, 'پرزای': 3064, '5اس': 3065, 'مشکلات': 3066, 'مونتاژی': 3067, 'مدلهای': 3068, 'مزاحمت': 3069, 'زرشکی': 3070, 'کانکتورش': 3071, 'هدفونم': 3072, 'بهداشت': 3073, 'دقیقی': 3074, 'انگلستان': 3075, 'تصورم': 3076, 'مجبورید': 3077, 'معادل': 3078, 'تابستونه': 3079, 'اهنرباش': 3080, 'صعیف': 3081, 'بدتر': 3082, 'کشم': 3083, 'مارکش': 3084, 'دندونه': 3085, 'تعارف': 3086, 'زغالی': 3087, 'نیاره': 3088, 'سیلیکا': 3089, 'حسش': 3090, 'میرفتم': 3091, 'زمانم': 3092, 'آنلاین': 3093, 'مراحل': 3094, 'العادع': 3095, 'خانومی': 3096, 'آکنهاین': 3097, 'غلظتشم': 3098, 'کثیفیا': 3099, 'عکساش': 3100, 'کاوری': 3101, 'دوجاش': 3102, 'زدگی': 3103, 'ونازک': 3104, 'فکرمیکنم': 3105, 'بایکم': 3106, 'قسمتا': 3107, 'وخراب': 3108, 'بودین': 3109, 'لیتر': 3110, 'لهستان': 3111, 'آمریکا': 3112, 'چندلایه': 3113, 'پیچیده_شده_بود': 3114, 'چندماه': 3115, 'میمونهتاثیر': 3116, 'بشکنه': 3117, 'لبتاپ': 3118, 'ارگانیک': 3119, 'فاقدچربی': 3120, 'هاله': 3121, 'ندارهالبته': 3122, 'براقسریع': 3123, 'نظره': 3124, 'کیفیه': 3125, 'مصرفم': 3126, 'روزم': 3127, 'میرم': 3128, 'طبقه': 3129, 'نوشته_بودم': 3130, 'نیستدر': 3131, 'راضیمهم': 3132, 'نارنگیه': 3133, '۶۰': 3134, 'وات': 3135, 'متفرقس': 3136, 'مجازه': 3137, 'بستش': 3138, 'اسپیکرهای': 3139, 'صداقت': 3140, 'بزگتری': 3141, 'عکسهایی': 3142, 'قراره': 3143, 'هاشم': 3144, 'ورداشت': 3145, 'ظریفه': 3146, 'iface': 3147, 'رفتنی': 3148, 'میپوشونم': 3149, 'نبودپوستهای': 3150, 'امنیت': 3151, 'بردارد': 3152, 'آهنربا': 3153, 'فقطدبعد': 3154, 'نمیتونستم': 3155, 'اصلاا': 3156, 'گیمر': 3157, 'ندین': 3158, 'لنگش': 3159, 'فروشگاهی': 3160, 'پوشانندگیش': 3161, 'ازاستفاده': 3162, 'ژلهای': 3163, 'قیمتاشونم': 3164, 'ظرفش': 3165, 'فرستاد': 3166, 'دندونهای': 3167, 'بذارن': 3168, 'قیقه': 3169, 'دندونشون': 3170, 'ویدئو': 3171, 'پرژکتوردیتا': 3172, 'خوشرنگیه': 3173, 'تابستان': 3174, 'گشتی': 3175, 'iso': 3176, 'هاشو': 3177, 'چگ': 3178, 'حقیقت': 3179, 'زدانگار': 3180, 'نمیکنهقیمتش': 3181, 'اولیه': 3182, 'تونه': 3183, 'خیلیل': 3184, 'lg': 3185, 'g5': 3186, 'منتظرم': 3187, 'سینه': 3188, '250': 3189, 'کارآیی': 3190, 'کبف': 3191, 'جاست': 3192, 'صرفنظر': 3193, 'براقه': 3194, 'میشهمخصوصا': 3195, 'چشمهایی': 3196, 'حساسیتی': 3197, 'بری': 3198, 'دارهاگرچه': 3199, 'phantom': 3200, 'spot': 3201, 'پودری': 3202, 'چندماهی': 3203, 'دختر': 3204, 'دوسالم': 3205, 'میزنهموقعی': 3206, 'اهنگ': 3207, 'میخنده': 3208, 'جذابمن': 3209, 'usbداغ': 3210, 'ارتباط': 3211, 'سرویس': 3212, 'سطوح': 3213, 'شده_است': 3214, 'سازش': 3215, 'اتکا': 3216, 'توشون': 3217, '140': 3218, 'میسته': 3219, 'برزنت': 3220, 'کنندهم': 3221, 'سفیدک': 3222, 'جذبه': 3223, 'نگیرین': 3224, 'آ': 3225, 'بوشو': 3226, 'مصموم': 3227, 'گیجه': 3228, 'میگیریبیشتر': 3229, 'عطرخوبی': 3230, 'چیپست': 3231, 'پاسخ': 3232, 'تلفن': 3233, 'پیامها': 3234, 'بالیی': 3235, 'بدهی': 3236, 'امااا': 3237, 'نامتوازن': 3238, 'نخوردنش': 3239, 'ورم': 3240, 'کردگی': 3241, 'داشتین': 3242, 'حلی': 3243, 'کشید': 3244, 'بتامتازون': 3245, 'چشمی': 3246, '2متر': 3247, 'مترهتازه': 3248, 'کش': 3249, 'بیادرنگ': 3250, 'بلاگرا': 3251, 'قابله': 3252, 'زائد': 3253, 'پوستولی': 3254, 'وسرعت': 3255, 'برابی': 3256, 'خدا': 3257, 'پاشون': 3258, 'کفشه': 3259, 'تور': 3260, '2ساعت': 3261, 'خدود': 3262, 'آمریکایی': 3263, 'وظرفشم': 3264, 'زائده': 3265, 'لمسه': 3266, 'توضیحاتی': 3267, '۱هم': 3268, 'نیستید': 3269, 'دیوار': 3270, 'بچسبید': 3271, '۵درصد': 3272, 'بلندتر': 3273, 'شارژتون': 3274, 'کنفی': 3275, 'انعطافپذیریش': 3276, 'اطلاعاتتون': 3277, '500': 3278, 'لیتری': 3279, 'تاحد': 3280, 'حوله': 3281, 'موس': 3282, 'میبخشه': 3283, 'ساختارش': 3284, 'همچیش': 3285, '۲۰۱۷': 3286, '۲۰۲۰': 3287, 'بروزتر': 3288, 'جدیدن': 3289, 'هیچکاری': 3290, 'بمراتب': 3291, 'خلاقه': 3292, 'پوشی': 3293, 'شوددو': 3294, 'هرکی': 3295, 'قابشه': 3296, 'نوشتن': 3297, 'مفتش': 3298, 'چیزای': 3299, 'عطری': 3300, 'خوشش': 3301, 'نمیکنمشولی': 3302, 'صورتمخیلی': 3303, 'موهاممرسی': 3304, 'زمانبندی': 3305, 'ارزشمنده': 3306, 'تیکس': 3307, 'بهj5': 3308, 'بهترشو': 3309, 'ناسازگاری': 3310, 'رخ': 3311, 'خواهید_گرفت': 3312, 'متوقف': 3313, 'اسکرابی': 3314, 'سالیست': 3315, 'افتابهای': 3316, 'فلویید': 3317, 'اسکرین': 3318, 'خوبههم': 3319, 'پورتaux': 3320, 'ضدشوره': 3321, 'سراستفا': 3322, 'لورال': 3323, 'اسنفاده': 3324, 'قبلترش': 3325, 'میساختپوست': 3326, 'آمونیاکبعد': 3327, 'سرحساس': 3328, 'تاحموم': 3329, 'بعدیتون': 3330, 'ووستان': 3331, 'خانومهااز': 3332, 'مطمئنم': 3333, 'عالیهمرسی': 3334, 'کاااملا': 3335, '۸۰': 3336, 'کیلو': 3337, 'تحملش': 3338, 'همینطوره': 3339, 'بوک': 3340, 'لنوو': 3341, '۱۶۴': 3342, 'چسبی': 3343, 'بدنها': 3344, 'مردی': 3345, 'نتونیم': 3346, 'چربیشو': 3347, 'پیری': 3348, 'پلمپیتوی': 3349, 'بودنازکجا': 3350, 'شامپوش': 3351, 'چرامحصولاتتون': 3352, 'پلمپ': 3353, 'نمیشهدور': 3354, 'آمدگی': 3355, 'وال': 3356, 'موزرم': 3357, 'بادیدن': 3358, 'شدمحتی': 3359, 'میدهتنها': 3360, 'بگذاریدنهایتا': 3361, 'کاغذو': 3362, 'جهات': 3363, 'عودت': 3364, 'متالیک': 3365, 'خانمها': 3366, 'آقایون': 3367, 'افتضاحهاگه': 3368, 'جدیدش': 3369, 'دارهچون': 3370, 'نوک': 3371, 'مدادی': 3372, 'پرسرعت': 3373, 'بزرگسالان': 3374, 'درشو': 3375, 'عالمه': 3376, 'میپاشه': 3377, 'انگیزی': 3378, 'ترکی': 3379, 'رنگشو': 3380, 'نیارن': 3381, 'اوناییکه': 3382, 'بیهمتا': 3383, 'بارش': 3384, 'برف': 3385, 'کج': 3386, 'بلافاصه': 3387, 'راضیماصلا': 3388, 'باشههرچقدر': 3389, 'خریدنشو': 3390, 'ندارههم': 3391, 'بوشهم': 3392, 'پوستتو': 3393, 'میکنهپوست': 3394, 'نمیکنهفقط': 3395, 'نخود': 3396, 'کافیهفقط': 3397, 'بزنیمن': 3398, 'پاکن': 3399, 'ایورشه': 3400, 'میسر': 3401, 'جشنوارهی': 3402, 'دوتاببر': 3403, 'فنریش': 3404, 'صندلیهای': 3405, 'فنری': 3406, 'بکشدش': 3407, 'دربیاد': 3408, 'کشیدنش': 3409, 'کا': 3410, 'گذاشتین': 3411, 'نمیکنهمن': 3412, 'میکنمخیلی': 3413, 'میکنمالبته': 3414, 'مناسبتره': 3415, 'مدتم': 3416, 'موهاتاصلا': 3417, 'دکمههاش': 3418, 'چرمی': 3419, 'بینید': 3420, 'خدبی': 3421, 'تارگوس': 3422, 'طوسیشوگرفتم': 3423, 'خانمی': 3424, 'خواهد_شکست': 3425, 'شناسیش': 3426, 'کردماین': 3427, 'سبوریک': 3428, 'درماتیت': 3429, 'واکنش': 3430, 'ترکیبات': 3431, 'آخرین': 3432, 'الیزابت': 3433, 'داشتمولی': 3434, 'کردخیلیراضی': 3435, 'خریدماصلا': 3436, 'نیستمواد': 3437, 'نداردفقط': 3438, 'کردهمچنین': 3439, 'رژ': 3440, 'گذاشته_است': 3441, 'دارماول': 3442, 'تناقض': 3443, 'برگردوندنرم': 3444, 'خوشحالت': 3445, 'ندارهنخریدخیلی': 3446, 'خودده': 3447, 'هوواوی': 3448, 'نمایشگر': 3449, 'بروشور': 3450, 'مراجعه': 3451, 'دستیابی': 3452, 'صبرو': 3453, 'تمایل': 3454, 'نیسبه': 3455, 'آرایشمو': 3456, 'مبام': 3457, 'هنوزم': 3458, '۱بار': 3459, 'led': 3460, 'بیشنهاد': 3461, 'ویزه': 3462, 'airpodsمحافظت': 3463, 'اندازشه': 3464, 'موندگاریش': 3465, 'بندش': 3466, 'گردن': 3467, 'میآزارد': 3468, 'کوچکتر': 3469, 'ابعاد': 3470, 'میارزهکیفیت': 3471, 'ندارهجکهای': 3472, 'باکیفیتبرند': 3473, 'ناشناخته': 3474, 'تأثیرش': 3475, 'مزخرف': 3476, '100': 3477, 'شدنو': 3478, 'مشکله': 3479, 'راصیم': 3480, 'پدارایشی': 3481, 'بیشتربود': 3482, 'زبرهستش': 3483, 'وارایش': 3484, 'فیش': 3485, 'کنیدبایک': 3486, 'باراستفاده': 3487, 'خودشونشون': 3488, 'دورچشمی': 3489, 'مواردی': 3490, 'بوضوح': 3491, 'برداره': 3492, 'وموها': 3493, 'میکنهبوی': 3494, 'وخش': 3495, 'درمورد': 3496, 'اتقضای': 3497, 'مخصولات': 3498, 'رسانی': 3499, 'گرما': 3500, 'تأثیری': 3501, 'میدادم': 3502, 'شاارژ': 3503, 'کردنشم': 3504, 'صحیح': 3505, 'دندانپزشک': 3506, 'نخواهید_داشت': 3507, 'دندانپزشکی': 3508, 'بذارم': 3509, 'موجودیش': 3510, 'عفونت': 3511, 'تناسب': 3512, 'حساسبت': 3513, 'کوواریانس': 3514, 'کواریانس': 3515, 'برگههاش': 3516, '۲پمپ': 3517, 'جوشهارو': 3518, 'شدیدمخصوصا': 3519, 'دهانو': 3520, 'چونه': 3521, 'میزنمبا': 3522, 'خشکم': 3523, 'بادوام': 3524, 'عینه': 3525, 'تاثیراتشو': 3526, 'چسبونده': 3527, 'رویه': 3528, 'گیرهای': 3529, 'رودوشی': 3530, 'خوبن': 3531, 'سوراخی': 3532, 'گوشیشون': 3533, 'گلده': 3534, 'وبسیاربا': 3535, 'وجابجای': 3536, 'ازخودرو': 3537, 'گالکسی': 3538, '2017': 3539, 'میشهجوری': 3540, 'پوستتونهبو': 3541, 'محسوب': 3542, 'میشهفوق': 3543, 'میکنهخدارو': 3544, 'زودم': 3545, 'نمیکردن': 3546, 'جایجا': 3547, 'دوروز': 3548, 'ودکمه': 3549, 'نکنیدممنون': 3550, 'spigen': 3551, 'گزنه': 3552, 'گفته_بود': 3553, 'خوشتون': 3554, 'نیاداول': 3555, 'کمترش': 3556, 'بگیریدمن': 3557, 'تعریفهای': 3558, 'کردمولی': 3559, 'نیستمچون': 3560, 'میکنیزود': 3561, 'سنگینهو': 3562, 'میبندهو': 3563, 'میکنهشاید': 3564, 'زمستان': 3565, 'تشنست': 3566, 'پرنده': 3567, 'نپسندن': 3568, 'توضیحاتش': 3569, 'ارایشهای': 3570, 'بشوند': 3571, 'منهم': 3572, 'گچ': 3573, 'نمیخوابه': 3574, 'آجری': 3575, 'کاربردینرم': 3576, 'اواژنگ': 3577, 'خونریزی': 3578, 'مدیوم': 3579, 'خریدرانه': 3580, 'فندق': 3581, 'تلف': 3582, 'معروفی': 3583, 'اینسایت': 3584, 'اسن': 3585, 'اکسیدان': 3586, 'روهم': 3587, 'تبلیغاتو': 3588, 'مطبوعی': 3589, 'اصراف': 3590, 'تنزل': 3591, 'مشگلش': 3592, 'خریدمتاالان': 3593, 'صبرکردم': 3594, 'بعدنظرموبگم': 3595, 'رواستفاده': 3596, 'تقربیا': 3597, 'اثرخاصی': 3598, 'میکردبعداز': 3599, 'جوشهام': 3600, 'نزدهمن': 3601, 'هرشب': 3602, 'ازخواب': 3603, 'دوبارم': 3604, 'میکنمنکته': 3605, 'آخراینکه': 3606, 'آیبرسان': 3607, 'پوستمون': 3608, 'روخشک': 3609, 'اثرشو': 3610, 'ساز': 3611, 'پوششش': 3612, 'آرایشتون': 3613, 'زیباتری': 3614, 'نمیشناسه': 3615, 'کانادا': 3616, 'ناخونام': 3617, 'گوگولی': 3618, 'گرونیها': 3619, 'زمستون': 3620, 'خون': 3621, 'ترکهای': 3622, 'میکنهاصلا': 3623, 'میلش': 3624, 'درکمترین': 3625, 'حاما': 3626, 'سایوس': 3627, 'آلمانی': 3628, 'شبیهشم': 3629, 'بخرینشپاک': 3630, 'برلی': 3631, 'منافذپوست': 3632, 'بهبقیه': 3633, 'خریدمکاملأ': 3634, 'راضیمتأییدش': 3635, 'نداردکیفیت': 3636, 'میبایستی': 3637, 'دفترچه': 3638, 'برگه': 3639, 'جدولی': 3640, 'فواید': 3641, 'میپشونه': 3642, 'میکنممشتری': 3643, 'سوپر': 3644, 'قیچیش': 3645, 'سبزش': 3646, 'یاسمن': 3647, 'میگین': 3648, 'بشورین': 3649, 'شر': 3650, 'خلاص': 3651, 'شستین': 3652, 'مرطوبکنندهی': 3653, 'نکشید': 3654, 'اییه': 3655, 'میارزید': 3656, 'شکسته': 3657, 'سربیه': 3658, 'نقرهایه': 3659, 'بستگی': 3660, 'وسایلم': 3661, 'الانش': 3662, 'نگین': 3663, 'حبابدار': 3664, 'داشتقیمتش': 3665, 'مناسبتر': 3666, 'مشورت': 3667, 'تمامصغحه': 3668, 'انداخته_باشید': 3669, 'مهمشم': 3670, 'استقاده': 3671, 'جیبها': 3672, 'وسایلو': 3673, 'درهم': 3674, 'بریزی': 3675, 'پارش': 3676, 'منسب': 3677, 'چاپش': 3678, 'حاشیه': 3679, 'زشتش': 3680, '1هفته': 3681, 'روپاک': 3682, 'ماندگاریش': 3683, 'دستامو': 3684, '5روزه': 3685, 'ناخنام': 3686, 'نرفته': 3687, 'ناخنا': 3688, 'ناخوشایند': 3689, 'کرده_باشی': 3690, 'خوبولی': 3691, 'نبوددرکل': 3692, 'رنگاشو': 3693, 'یکدسته': 3694, 'ماندگاربدون': 3695, 'حساسیتکلا': 3696, 'لوکسیه': 3697, 'نذاشته': 3698, 'واقعابشدت': 3699, 'یهویی': 3700, 'بمونم': 3701, 'بخوابم': 3702, 'واش': 3703, 'نوتروجینا': 3704, 'سوپرایز': 3705, 'میداری': 3706, 'عمقی': 3707, 'پنجم': 3708, 'نوتروجینای': 3709, 'تنبلی': 3710, 'نارگیلو': 3711, 'تمیزکنندگیش': 3712, 'بچسبه': 3713, 'خمیردندونایی': 3714, 'یلدا': 3715, 'مجلسی': 3716, 'بکشه': 3717, 'نخورن': 3718, 'نمیشهبا': 3719, 'اینکاره': 3720, 'بودبعد': 3721, 'بخدا': 3722, 'قسم': 3723, 'ملت': 3724, 'میدهمن': 3725, 'همشونم': 3726, 'شکلاتم': 3727, 'عالیش': 3728, 'لطیفی': 3729, 'پاکیزگی': 3730, 'کردمتمامی': 3731, 'بودموهای': 3732, 'ابریشم': 3733, 'سوتفافم': 3734, 'داروها': 3735, 'نبودن': 3736, 'چهارسال': 3737, 'هرزمان': 3738, 'همونجوری': 3739, 'میدونید': 3740, 'صداشم': 3741, 'دوزاری': 3742, 'نیفتاده': 3743, 'اقایون': 3744, 'اشانتیون': 3745, 'عاااااالیه': 3746, 'ماسکها': 3747, 'شبانه': 3748, 'شیرمو': 3749, 'کلگیت': 3750, 'شرطی': 3751, 'وهم': 3752, 'نمیدن': 3753, 'محضول': 3754, 'گیره': 3755, 'هیرریپیرش': 3756, 'رطوبش': 3757, 'مرطوبایی': 3758, 'رطوبتشون': 3759, 'نویسم': 3760, 'سلامکیفیت': 3761, 'اطفال': 3762, 'خارجیش': 3763, 'تاچ': 3764, 'هامرتب': 3765, 'صفحش': 3766, 'شدمو': 3767, 'روشور': 3768, 'حسی': 3769, 'موردهمرسی': 3770, 'انار': 3771, 'اوجایی': 3772, 'راحتتر': 3773, 'افتضا': 3774, 'بودمقدار': 3775, 'لختی': 3776, 'کنندهای': 3777, 'عود': 3778, 'جرانش': 3779, 'کابلای': 3780, 'کابلتون': 3781, 'پام': 3782, 'اسیاب': 3783, 'فردی': 3784, 'مرتبی': 3785, 'ضربات': 3786, 'اکالیپتوس': 3787, 'نعنا': 3788, 'اسآبرسان': 3789, 'قویه': 3790, 'صورتمیبارم': 3791, 'چروکام': 3792, 'شدتازه': 3793, 'زدمفقط': 3794, 'میکنهبا': 3795, 'رادارد': 3796, 'آردن': 3797, 'بهتراست': 3798, 'ارزشش': 3799, 'موهایم': 3800, 'خریدهای': 3801, 'فره': 3802, 'my': 3803, 'قیاس': 3804, 'فلوید': 3805, 'استفادع': 3806, 'تنظیمات': 3807, 'کنسول': 3808, 'ful': 3809, 'الکیه': 3810, 'پوششی': 3811, 'گوشیتونو': 3812, 'مانع': 3813, 'ورود': 3814, 'هضم': 3815, 'شدنه': 3816, 'میبردم': 3817, 'نیستتمام': 3818, 'چاپی': 3819, 'حک': 3820, 'پرودرما': 3821, 'خوشایند': 3822, 'زدنای': 3823, 'دیدنش': 3824, 'مانور': 3825, 'انتجاب': 3826, 'بودو': 3827, 'بایدتشکر': 3828, 'میبرد': 3829, 'f3y': 3830, '021': 3831, 'bt2m': 3832, 'بلکین': 3833, 'مدلو': 3834, 'گرفتو': 3835, 'الکل': 3836, 'پارادونتکس': 3837, 'لطف': 3838, 'تحریما': 3839, 'گرونیا': 3840, '۲۰۲۳': 3841, 'قبلیا': 3842, 'تخمشو': 3843, 'ملخ': 3844, 'پارابنه': 3845, 'هدف': 3846, 'دکترم': 3847, 'بخوری': 3848, 'استفده': 3849, 'چطوره': 3850, 'ویتامین': 3851, 'عالیهاصلا': 3852, 'فکنمیکردم': 3853, 'انقد': 3854, 'باشهدندون': 3855, 'میکنهبعد': 3856, 'کنمش': 3857, 'دستگاهی': 3858, 'سینا': 3859, 'همدان': 3860, 'مرغ': 3861, 'اشکالی': 3862, 'پرتقال': 3863, 'لیمو': 3864, 'ترش': 3865, 'غذایی': 3866, 'تونید': 3867, 'ندارهتنها': 3868, 'حسنش': 3869, 'خوبشه': 3870, 'اثربخشی': 3871, 'وکارخانه': 3872, 'فکری': 3873, 'روزای': 3874, 'مناسبسریع': 3875, 'واحساس': 3876, 'کنماستفاده': 3877, 'ومقدارش': 3878, 'وزیادهحتما': 3879, 'بجاش': 3880, 'نمیشورم': 3881, 'پئست': 3882, 'بیودرم': 3883, '752': 3884, 'چنا': 3885, 'پروتئینش': 3886, 'تنهاضدافتابی': 3887, 'چنددوره': 3888, 'بدنتان': 3889, 'سوزه': 3890, 'محفطه': 3891, 'دوستدارم': 3892, 'نمیکنهنرم': 3893, 'میکنهو': 3894, 'روشنمیکنه': 3895, 'درمیاره': 3896, 'بودکیسه': 3897, 'برنج': 3898, 'محسن': 3899, 'ترهبینهایت': 3900, 'خوصله': 3901, 'بیارین': 3902, 'میوفته': 3903, 'موییه': 3904, 'بندازه': 3905, 'پداش': 3906, 'هستنوقتی': 3907, 'خوبهناخن': 3908, 'نشدمنکه': 3909, 'انداختن': 3910, 'چوش': 3911, 'داروهای': 3912, 'ازمایش': 3913, 'چوشهای': 3914, 'دندونهمعمولی': 3915, 'آلمانه': 3916, 'کاورو': 3917, 'ارزانتر': 3918, 'یاد': 3919, 'مشابهی': 3920, 'نمیشن': 3921, 'لیزر': 3922, 'دومشو': 3923, 'اثربخشیش': 3924, 'بودماصلا': 3925, 'دوماهی': 3926, 'باچشم': 3927, '1ونیم': 3928, 'کردهدرکنارش': 3929, 'اهن': 3930, 'ففول': 3931, 'کردمعالی': 3932, 'مونهاگه': 3933, 'زیباستمن': 3934, 'میشهو': 3935, 'نمیکنهبرق': 3936, 'نمیندازهخیلی': 3937, 'بالاکاش': 3938, 'درخواست': 3939, 'بخرد': 3940, 'میخرد': 3941, 'یکسانی': 3942, 'نمیتوان': 3943, 'نداشته_باشد': 3944, 'برس': 3945, 'انتطار': 3946, 'مغذی': 3947, 'حاوی': 3948, 'ارزن': 3949, 'جاس': 3950, 'چاقو': 3951, 'نیاد': 3952, 'بالهآ': 3953, 'dm': 3954, 'هستنداین': 3955, 'اجازه': 3956, 'آرامی': 3957, 'میشودموهای': 3958, 'جمعو': 3959, 'بشید': 3960, 'آمازون': 3961, 'میفهمید': 3962, 'آکی': 3963, 'تعصبی': 3964, 'حقیقی': 3965, 'محصولاتش': 3966, 'پاوربانکش': 3967, 'فعالیت': 3968, 'ورزشی': 3969, 'تافت': 3970, 'بهترینچیزیه': 3971, 'امپاک': 3972, 'تظر': 3973, 'ومد': 3974, 'عالیههم': 3975, 'ضخامتهم': 3976, 'بزنن': 3977, 'ببرین': 3978, 'میموزا': 3979, 'میگیرین': 3980, 'مقطع': 3981, 'دایره': 3982, 'تداخل': 3983, 'بدونین': 3984, 'یجای': 3985, 'میلنگه': 3986, 'دلپذیر': 3987, 'خلاصش': 3988, 'ضعیفتر': 3989, 'سیمای': 3990, 'فولیکا': 3991, 'بهنرین': 3992, 'حلقه': 3993, 'سرحال': 3994, 'نطر': 3995, 'نمیشوید': 3996, 'پایینتره': 3997, 'نازل': 3998, 'نمایید': 3999, 'نگیر': 4000, 'شامپوهایی': 4001, 'اوائل': 4002, 'شیفته': 4003, 'مسی': 4004, 'دیحی': 4005, 'پکی': 4006, 'اشغال': 4007, 'عکسهای': 4008, '2نفری': 4009, 'میکنمکاملا': 4010, 'راضیممثل': 4011, 'دارهخیلی': 4012, 'اورجینالش': 4013, 'سریعتر': 4014, 'نخوردم': 4015, 'شهخوب': 4016, 'حتمآ': 4017, 'مدتهاس': 4018, 'چربهبا': 4019, 'دورش': 4020, 'محصولیه': 4021, 'مزیته': 4022, 'بوددوباره': 4023, 'دوتای': 4024, 'اعضای': 4025, 'کرمش': 4026, 'رنگهای': 4027, 'زده_شود': 4028, 'میشکه': 4029, 'خریدی': 4030, 'ساپرت': 4031, 'عالیبدون': 4032, 'بذاره': 4033, 'الانم': 4034, 'ناموجوده': 4035, 'فروشندش': 4036, 'خپد': 4037, 'متفرقه': 4038, '9': 4039, 'ناشناس': 4040, 'میگشتم': 4041, 'عااااااااااااااالی': 4042, 'موهامم': 4043, 'تلخی': 4044, 'دلنشینی': 4045, 'بانوان': 4046, 'صرف': 4047, 'وسطش': 4048, 'فیک': 4049, 'انگلیس': 4050, 'قدیمیاش': 4051, 'پیشنهادات': 4052, 'گاردش': 4053, 'شلی': 4054, 'هرنظر': 4055, 'چکش': 4056, 'جوکر': 4057, 'قرمزه': 4058, 'درعین': 4059, 'دریک': 4060, 'ود': 4061, 'وپیشنهاد': 4062, '66': 4063, 'نتونست': 4064, 'آیتیونز': 4065, 'تمااام': 4066, 'محکومو': 4067, 'خردلی': 4068, 'ios': 4069, 'تغیر': 4070, 'اینترنتمو': 4071, 'خانه': 4072, 'اتش': 4073, 'کشیده_شود': 4074, 'فریس': 4075, 'بدنشون': 4076, 'پشم': 4077, 'میشناصلا': 4078, 'نیستچون': 4079, 'بدترش': 4080, 'اگ': 4081, 'میخاید': 4082, 'امپری': 4083, 'قیمته': 4084, 'مشکبم': 4085, 'کتانه': 4086, 'ناخوشایندی': 4087, 'امروزدستم': 4088, 'نوسان': 4089, 'شیکیه': 4090, 'دوامه': 4091, 'بدرنگ': 4092, 'چندرنگرنگ': 4093, 'متقاضی': 4094, 'نیستن': 4095, 'میفرستن': 4096, 'اوریاژ': 4097, 'لنزش': 4098, 'گیپ': 4099, 'کاوره': 4100, 'میلیمتری': 4101, 'گرانی': 4102, 'خوبهمنافذ': 4103, 'میبندهچربی': 4104, 'میشوره': 4105, 'میکنهرایحه': 4106, 'دارهسبک': 4107, 'دما': 4108, 'اکستنشن': 4109, 'تعسیر': 4110, '۱الی۵': 4111, 'تماز': 4112, 'دیدیم': 4113, 'راضیام': 4114, 'هرروز': 4115, 'سیاهمو': 4116, 'دندونم': 4117, 'چیزها': 4118, 'بژش': 4119, 'میخونید': 4120, 'ایتالیا': 4121, 'پشتشم': 4122, 'مارکایه': 4123, 'متنوع': 4124, 'کمکتون': 4125, 'کرده_باشم': 4126, 'قریب': 4127, 'فوقالعادس': 4128, 'متغایر': 4129, 'میگیرهمو': 4130, 'نقاظ': 4131, 'انچنانی': 4132, 'مابلو': 4133, 'نگفت': 4134, 'بطفا': 4135, 'زباله': 4136, 'سرمه': 4137, 'وو': 4138, 'نباشد': 4139, 'پاینتر': 4140, 'باسلامدوستان': 4141, 'ریشه': 4142, 'میکنهفقط': 4143, 'میزنین': 4144, 'بجا': 4145, 'نمیمونهخریدشو': 4146, 'سفارشش': 4147, 'مرجوعی': 4148, 'بهره': 4149, 'نبردم': 4150, 'چهارده': 4151, 'دردش': 4152, 'پرپشت': 4153, 'پرس': 4154, 'جو': 4155, 'کردمهم': 4156, 'معروفیهبعد': 4157, 'خوبهراضی': 4158, 'کرمایی': 4159, 'نمیبره': 4160, 'کلیدهاش': 4161, 'پهلوونی': 4162, 'دوستمون': 4163, 'وهمون': 4164, 'کارایش': 4165, 'خوبهدرکل': 4166, 'بشود': 4167, 'وهزینه': 4168, 'وشاید': 4169, 'بالایش': 4170, 'پونه': 4171, 'نسیم': 4172, 'تاژ': 4173, 'دربیارید': 4174, 'خوبیهقبلا': 4175, 'گوگرد': 4176, 'نشدمبوش': 4177, 'موندگار': 4178, 'هستپیشنهاد': 4179, 'میمونهمرطوب': 4180, 'فراموش': 4181, 'نشهبرای': 4182, 'قارچ': 4183, 'اصلأ': 4184, '5آمپر': 4185, 'نوکیای': 4186, 'قلابی': 4187, 'نوشته_بود': 4188, 'باغث': 4189, 'روشنشو': 4190, 'روشنچون': 4191, 'طیف': 4192, 'بیافته': 4193, 'باحاله': 4194, 'mate': 4195, 'هستو': 4196, 'ساعتو': 4197, 'ربع': 4198, 'خانوما': 4199, 'میخرین': 4200, 'روشو': 4201, 'بخونین': 4202, 'نادرست': 4203, 'نمیبینین': 4204, 'جوشارو': 4205, 'حذف': 4206, 'بالاتره': 4207, 'نیفتاد': 4208, 'نظراتو': 4209, 'دستندرکاران': 4210, 'خودشونن': 4211, 'حضار': 4212, 'بدونن': 4213, 'کلفت': 4214, 'دمپایی': 4215, 'نیکتا': 4216, 'قول': 4217, 'انگشتم': 4218, 'سومم': 4219, 'کابلایی': 4220, 'زیباییست': 4221, 'خوبهپوست': 4222, 'خوببسیار': 4223, 'مناسبپیشنهاد': 4224, 'اغراق': 4225, 'انتظاراتی': 4226, 'مردها': 4227, 'نذاره': 4228, 'انتظاراتم': 4229, 'برآورده': 4230, 'گرفتمعالیه': 4231, 'رازیم': 4232, 'درمیرهاگه': 4233, 'قرمزشو': 4234, 'یوگرین': 4235, 'مراتب': 4236, 'نمیگیرید': 4237, '۱۴۷': 4238, 'رسانایی': 4239, 'هادی': 4240, 'گلند': 4241, 'امن': 4242, 'تار': 4243, 'نمیسوزونه': 4244, 'همونطوری': 4245, 'ریختمش': 4246, 'فاضلاب': 4247, 'راجب': 4248, 'مانیکورو': 4249, '4100': 4250, 'رومیزی': 4251, 'راو': 4252, 'rpuc': 4253, '07': 4254, 'روکشی': 4255, 'پیچ': 4256, 'استفادهتجربه': 4257, 'اشتراک': 4258, 'گذارم': 4259, 'صورتیه': 4260, 'نامرغوب': 4261, 'صافی': 4262, 'فکرش': 4263, 'مسک': 4264, 'نندارم': 4265, 'استخر': 4266, 'شتشو': 4267, 'بارداری': 4268, 'ادعا': 4269, 'میشهفعلا': 4270, 'بندیشو': 4271, 'کنندگیشو': 4272, 'خوشبوییش': 4273, 'بور': 4274, 'یوقور': 4275, 'ببینه': 4276, 'پایش': 4277, 'کمرگه': 4278, 'زحمت': 4279, 'کشیدید': 4280, 'تبلیغات': 4281, 'نمکنه': 4282, 'تبلغاته': 4283, 'راهنماش': 4284, 'جاذبش': 4285, 'صفره': 4286, 'ux': 4287, '561': 4288, 'سلامتی': 4289, 'بدهیم': 4290, 'لوگویی': 4291, 'عالیههمین': 4292, 'شدهنسبت': 4293, 'دیدمش': 4294, 'دارهای': 4295, 'دوروبرم': 4296, 'نصفش': 4297, 'عید': 4298, 'سایزی': 4299, 'آسمون': 4300, 'پلتستیکش': 4301, 'نخورهمن': 4302, 'تامین': 4303, 'محکمحس': 4304, 'موثرتر': 4305, 'اوسرین': 4306, 'لیراکه': 4307, 'کوچکه': 4308, 'قشنگتر': 4309, 'بوداز': 4310, 'اتومات': 4311, 'آبو': 4312, 'اتوماتیک': 4313, 'هستپوستم': 4314, 'حساسبدون': 4315, 'کردنپوست': 4316, 'میکنهحس': 4317, 'میدهاز': 4318, 'سنسور': 4319, 'نیمه': 4320, 'شفافه': 4321, 'کیفتیش': 4322, 'جام': 4323, 'خوبهضربه': 4324, 'هستولی': 4325, 'دوخته': 4326, 'زیپ': 4327, 'بزرگش': 4328, 'جامیشه': 4329, 'کول': 4330, 'عطرش': 4331, 'هستخصوصا': 4332, 'وجنسش': 4333, 'هشتتنها': 4334, 'امان': 4335, 'فنا': 4336, 'برهالبته': 4337, 'فهمید': 4338, 'راضییم': 4339, 'دیجیکالای': 4340, 'انشااللله': 4341, 'چهانی': 4342, 'صابوت': 4343, 'آشفته': 4344, 'عجله': 4345, 'نکنیدنم': 4346, 'اندازپس': 4347, 'معروف': 4348, 'سنم': 4349, 'جوانی': 4350, 'میسازه': 4351, 'سیب': 4352, 'دلپذیره': 4353, 'باکتریه': 4354, 'دوستاندرمورد': 4355, 'بخریدیش': 4356, 'همشم': 4357, 'نتیجرو': 4358, 'درمانتون': 4359, 'وقفه': 4360, 'شین': 4361, 'ایرانم': 4362, 'پست': 4363, 'نمشید': 4364, 'بووووود': 4365, 'هدست': 4366, 'رد': 4367, 'شارژهای': 4368, 'a': 4369, 'زیباتر': 4370, 'ایسوزم': 4371, 'کوییک': 4372, 'خودبخود': 4373, 'نمیخورد': 4374, 'فابریکش': 4375, 'دوازده': 4376, 'نعمت': 4377, 'پیشنهادمیشه': 4378, '1کرم': 4379, 'کرمهااوکی': 4380, 'پمپش': 4381, 'ندادم': 4382, 'دردسر': 4383, 'اصلن': 4384, 'مخصوصن': 4385, 'باتریش': 4386, 'میاری': 4387, 'میدمواقعا': 4388, 'عمری': 4389, 'فیشش': 4390, 'حالیکه': 4391, 'بانکم': 4392, 'خوشگته': 4393, 'صرفست': 4394, 'تکی': 4395, 'متریش': 4396, 'هرچیزی': 4397, 'ضدافتابه': 4398, 'تولیدی': 4399, 'مینو': 4400, 'فامالوژی': 4401, 'نماینده': 4402, 'لیسانس': 4403, 'تولیده': 4404, 'زدمش': 4405, 'والا': 4406, 'نمیارزید': 4407, 'ابدا': 4408, 'اسپانول': 4409, 'لیفتینگ': 4410, 'باسلامبر': 4411, 'گردنش': 4412, 'نفت': 4413, 'شستمش': 4414, 'فشرده': 4415, 'usbcداره': 4416, 'اژدهاش': 4417, 'لطیفهدومین': 4418, 'خریدمپوست': 4419, 'پایینشه': 4420, 'نماد': 4421, 'مفیده': 4422, 'بندهای': 4423, 'اداری': 4424, 'مستحکمی': 4425, 'برنزتش': 4426, 'جاذب': 4427, 'گرد': 4428, 'خاک': 4429, 'لباسه': 4430, 'محسوسه': 4431, 'وشفاف': 4432, 'سرسیاهو': 4433, 'عالللیییییه': 4434, 'msi': 4435, 'فضا': 4436, 'نیوردم': 4437, 'سایزدلپ': 4438, 'گیمینگتون': 4439, 'گیمینگ': 4440, 'ضخیمی': 4441, 'مدتیه': 4442, 'پامپ': 4443, 'منتها': 4444, 'افتضاحح': 4445, 'منطقیه': 4446, 'چهارم': 4447, 'حم': 4448, 'دستکش': 4449, 'اگزما': 4450, 'سایزشم': 4451, 'دستاشون': 4452, 'جوابه': 4453, 'باریه': 4454, 'تثبیت': 4455, 'ترمیمتون': 4456, 'اظهار': 4457, 'میتونست': 4458, 'راحتر': 4459, 'مفید': 4460, 'بنابه': 4461, 'هادربازارازکیفیت': 4462, 'برخورداراست': 4463, 'دستورش': 4464, 'بلخره': 4465, 'ودیدم': 4466, 'درطول': 4467, 'کارکردها': 4468, 'دادنش': 4469, 'سرراه': 4470, 'آمپرست': 4471, 'تهش': 4472, 'ارزششخیلی': 4473, 'گرفتهبودم': 4474, 'وخریدآسان': 4475, 'خیارش': 4476, 'adaptive': 4477, 'charging': 4478, 'متراژش': 4479, 'استاندارده': 4480, 'همخوانی': 4481, 'ذگر': 4482, 'نشده_بود': 4483, 'تاتیر': 4484, 'گزار': 4485, 'خوام': 4486, 'بزاره': 4487, 'سیمی': 4488, 'بودمزود': 4489, 'کوچیکتر': 4490, 'زمانیکه': 4491, 'میشستم': 4492, 'میکنهدرسته': 4493, 'مانلی': 4494, 'کارشناس': 4495, 'ارشد': 4496, 'دیدگاه': 4497, 'انتظارات': 4498, 'زیتونی': 4499, 'تصفیه': 4500, 'نشده_است': 4501, 'خاطرجم': 4502, 'شاخی': 4503, 'اپی': 4504, 'درم': 4505, 'برمیداره': 4506, 'حسنه': 4507, 'درهفته': 4508, 'اکتفا': 4509, 'اشتباهید': 4510, 'تعییر': 4511, 'کدری': 4512, 'blackhead': 4513, 'clearingهمین': 4514, 'عاااااالین': 4515, 'دردهای': 4516, 'عضلانی': 4517, 'کوفتگی': 4518, 'قولنج': 4519, 'شکسته_بود': 4520, '40': 4521, 'پولتان': 4522, 'ps4گرفتم': 4523, 'میدهپوست': 4524, 'ترسیدم': 4525, 'کندمش': 4526, 'بستهبندی': 4527, '۹۷': 4528, 'اتوپیکی': 4529, 'نمیکنهبه': 4530, 'پاتون': 4531, 'مثه': 4532, 'بهد': 4533, 'کیفین': 4534, 'قوتش': 4535, 'ننوشتمش': 4536, 'بهبودی': 4537, 'بودراضی': 4538, 'شیرینی': 4539, '1400': 4540, 'چندم': 4541, 'شامپودر': 4542, '۳تا۵': 4543, 'بشهتاکید': 4544, '۵۲': 4545, 'اف': 4546, 'خنکه': 4547, 'کیپ': 4548, 'اثرگذاریش': 4549, 'بسته_است': 4550, 'هیمالیا': 4551, 'تخصصش': 4552, 'دارویی': 4553, 'ضدچربیش': 4554, 'چندساله': 4555, 'خمیردندونشم': 4556, 'لرزشش': 4557, 'انگشتتون': 4558, 'همم': 4559, 'اسید': 4560, 'سفیداب': 4561, 'شدهکه': 4562, 'وسهولت': 4563, 'استمن': 4564, 'مرغوبیت': 4565, 'اقوام': 4566, 'فرستادم': 4567, 'المان': 4568, 'بودندامیدوارم': 4569, 'تولیدات': 4570, 'صرر': 4571, 'سولار': 4572, 'گجت': 4573, 'هح': 4574, 'ماینوکسیدل': 4575, 'فیناستراید': 4576, 'سلاماین': 4577, 'خریدامه': 4578, 'نذاریم': 4579, 'چرخش': 4580, 'بچرخه': 4581, 'ابرو': 4582, 'ابروهایی': 4583, 'طلاییش': 4584, 'گرمیا': 4585, 'ایاس': 4586, 'میرزه': 4587, 'آخم': 4588, 'سیمشم': 4589, 'بلنده': 4590, '750': 4591, 'هوآوی': 4592, 'پرستیج': 4593, 'چیت': 4594, 'بدبختی': 4595, 'هشکی': 4596, 'یخ': 4597, 'زده_بود': 4598, 'پسرم': 4599, 'رسه': 4600, 'زنجیرش': 4601, 'تیلت': 4602, 'بقدری': 4603, 'کاورای': 4604, 'گوشیی': 4605, 'نیلکینش': 4606, 'میدناز': 4607, 'میشهخیلی': 4608, 'عااااالی': 4609, 'منفقط': 4610, 'نبرده': 4611, 'اماون': 4612, 'پینتهاد': 4613, 'بستشو': 4614, 'فرچه': 4615, 'نرمهواقعا': 4616, 'تصویره': 4617, 'مایعش': 4618, 'تووش': 4619, 'آستون': 4620, 'اثراتش': 4621, 'آیمک': 4622, 'thunderbolt': 4623, 'usbc': 4624, 'رفرش': 4625, 'بیت': 4626, 'دقیقأ': 4627, 'ارایشی': 4628, 'زردی': 4629, 'بخواین': 4630, 'کنهدر': 4631, '5040': 4632, 'چندتایبم': 4633, 'تغییراتش': 4634, '95': 4635, 'ینی': 4636, 'هرچقدم': 4637, 'صافتر': 4638, 'نایاب': 4639, 'محصولش': 4640, 'برمیگردم': 4641, 'شدیدی': 4642, 'طمع': 4643, 'چرته': 4644, 'کرمای': 4645, 'خوبهبوشم': 4646, 'هشتاد': 4647, 'میذارمش': 4648, 'همراهمه': 4649, 'واگر': 4650, 'فایلی': 4651, 'دسترس': 4652, 'آسمانی': 4653, 'فایاهشون': 4654, 'داشتنش': 4655, 'جیبهای': 4656, 'بخور': 4657, 'تاپش': 4658, 'چنگی': 4659, 'نمیپوشونه': 4660, 'روصفحه': 4661, 'بلندش': 4662, 'همیت': 4663, 'تریزید': 4664, 'روباکلی': 4665, 'وتردیدگرفتم': 4666, 'اماواقعاعالی': 4667, 'رومیگیره': 4668, 'درپوست': 4669, 'وواقعاتمیزمیکنه': 4670, 'بعداستفاده': 4671, 'وتمیزتمیزمیشه': 4672, 'سریعه': 4673, 'پودرش': 4674, 'زرید': 4675, 'قط': 4676, 'ناخنگیر': 4677, 'نخریدنش': 4678, 'سیمها': 4679, 'عالیهشک': 4680, 'خریدشحیف': 4681, 'j4': 4682, 'چوبه': 4683, 'نانسی': 4684, 'بزرگن': 4685, 'منطبق': 4686, 'حرکات': 4687, 'رئزمره': 4688, 'تغیری': 4689, 'پایی': 4690, 'میکنهمن': 4691, '۱۵۶': 4692, 'اینچه': 4693, 'میصرفه': 4694, 'مادرم': 4695, 'تنده': 4696, 'بودمن': 4697, 'نرمیپا': 4698, 'gum': 4699, 'کوچیکی': 4700, 'صابونهای': 4701, 'عربی': 4702, 'اوناست': 4703, 'نظرمن': 4704, 'زیباو': 4705, 'لومکس': 4706, 'همینجا': 4707, 'اپتیکال': 4708, 'تنظیماتو': 4709, 'زیرو': 4710, 'اوپ': 4711, 'نمیومداخرش': 4712, 'فیشی': 4713, 'بگیرماما': 4714, 'اینوهم': 4715, 'نزنین': 4716, 'دندانو': 4717, 'خنثی': 4718, 'کلنجار': 4719, 'بیام': 4720, 'ناچار': 4721, 'مسولان': 4722, 'فنی': 4723, 'بازخورد': 4724, 'اختیار': 4725, 'علم': 4726, 'هسته': 4727, 'انگور': 4728, 'ضامن': 4729, 'وخوب': 4730, 'التهابات': 4731, 'مفت': 4732, 'خودتونو': 4733, 'نمیشینه': 4734, 'نعنایی': 4735, 'مثله': 4736, 'اصلیه': 4737, 'اپله': 4738, 'مسیر': 4739, 'کیلومتر': 4740, 'سقف': 4741, 'جامانده': 4742, 'مقصد': 4743, 'بودهم': 4744, 'محکماطرافو': 4745, 'دوربینه': 4746, 'خیالم': 4747, 'میترسیدم': 4748, 'داغون': 4749, 'بشهحتما': 4750, 'پمپاژش': 4751, 'فریبنده': 4752, 'کالارو': 4753, '۷۸': 4754, 'موتورش': 4755, 'استپ': 4756, 'میکته': 4757, 'تشویق': 4758, 'کوچولوهای': 4759, 'فامیلبهشون': 4760, 'دادمهمشون': 4761, 'داشتنداگر': 4762, 'واقعأ': 4763, 'برندش': 4764, 'ایرانیهحتمأ': 4765, 'کنیدرشد': 4766, 'حیفه': 4767, 'نظرا': 4768, 'لافاررایرانی': 4769, 'کاملش': 4770, 'مقاومیه': 4771, 'آلمینیومیه': 4772, 'متصلمبشه': 4773, 'روبرای': 4774, 'پرازجوش': 4775, 'واقعاانتظارنداشتم': 4776, 'توعرض': 4777, 'تقریبابعدیک': 4778, 'جوشاازبین': 4779, 'رفتن': 4780, 'بایه': 4781, 'درعرض': 4782, 'واقعاعالیه': 4783, 'ومعجزه': 4784, 'کردبه': 4785, 'توصیش': 4786, 'صورتوخشک': 4787, 'وپوسته': 4788, 'واقعامحصولات': 4789, 'لرزش': 4790, 'خفیفه': 4791, 'ویبره': 4792, 'منک': 4793, 'اینی': 4794, 'عکسا': 4795, 'دورنگ': 4796, 'یکدستشو': 4797, 'پیکسل': 4798, 'روحی': 4799, 'بیارید': 4800, 'بگه': 4801, 'سفارشم': 4802, 'بودتو': 4803, 'رطوبتی': 4804, 'نزده': 4805, 'استفاره': 4806, 'سیاهم': 4807, 'خو': 4808, 'نبی': 4809, 'نگرانی': 4810, 'میخوای': 4811, 'ارزونترشم': 4812, 'نداردمن': 4813, 'طلاییشو': 4814, 'خریدمدورش': 4815, 'افرین': 4816, 'لاکهای': 4817, 'بورژوا': 4818, 'وازنظرمن': 4819, 'الوورا': 4820, 'کالاخریدم': 4821, 'ترکیباتش': 4822, 'چسبناکه': 4823, 'ازینکه': 4824, 'زدید': 4825, 'صبرکنید': 4826, 'بمالید': 4827, 'برداشته': 4828, 'کنندست': 4829, 'میکرودرمه': 4830, 'میکرودرم': 4831, 'fiber': 4832, 'therapy': 4833, 'حدیثی': 4834, 'نگذاشته': 4835, 'میبینیدواقعا': 4836, 'دندونارو': 4837, 'میبرهولی': 4838, 'ضررش': 4839, 'امکاش': 4840, 'دیدمپیشنهادش': 4841, 'دستمو': 4842, 'عطرشم': 4843, 'نمیاره': 4844, 'بخشیش': 4845, 'play': 4846, 'audio': 4847, 'router': 4848, 'on': 4849, 'jack': 4850, 'دوشی': 4851, 'کوتاس': 4852, 'هیکل': 4853, 'استانداردش': 4854, 'کیفتون': 4855, 'اویزون': 4856, 'لزج': 4857, 'پهنه': 4858, 'اینیکی': 4859, 'باشدتنها': 4860, 'نیستمن': 4861, 'خریدنو': 4862, 'چسبناک': 4863, 'نکننسریع': 4864, 'یقوره': 4865, 'دومن': 4866, 'دکمش': 4867, 'سومن': 4868, 'چنس': 4869, 'خوبزیبابه': 4870, 'ردش': 4871, 'نویزی': 4872, 'نگرفته': 4873, 'اینترنت': 4874, 'مصارف': 4875, 'اداره': 4876, '۱۷': 4877, 'آذر': 4878, 'هولدر': 4879, 'سونی': 4880, 'سپاسگذارم': 4881, 'برندخوبیه': 4882, 'اروپایی': 4883, 'شاین': 4884, 'نمیکه': 4885, 'لایهی': 4886, 'اکنه': 4887, 'دردناک': 4888, 'متورمن': 4889, 'شارژرهای': 4890, 'کردهام': 4891, 'مطلوبی': 4892, 'دمیج': 4893, 'نکنمن': 4894, 'سوخته_بود': 4895, 'خودشونو': 4896, 'اوردنکاش': 4897, 'شده_بودم': 4898, 'بدهمن': 4899, 'خربدم': 4900, 'بدحالتی': 4901, 'تاثیرات': 4902, '1درصد': 4903, 'پنجاه': 4904, 'خریدمکه': 4905, 'گشاد': 4906, 'تنگ': 4907, 'بیشترین': 4908, 'تخت': 4909, 'دوطرفه': 4910, 'اهرم': 4911, 'ومحکم': 4912, 'وازعکسم': 4913, 'زشت': 4914, 'edge': 4915, 'فشانش': 4916, 'لای': 4917, 'قدرتمندی': 4918, 'پرینتر': 4919, '2130': 4920, 'باصرفه': 4921, 'برداشتن': 4922, 'درومد': 4923, 'هستندفقط': 4924, 'پشیون': 4925, '2تا': 4926, 'بندازمشون': 4927, 'بادوم': 4928, 'j': 4929, '510': 4930, 'gnگرفتم': 4931, 'j5نبود': 4932, 's6بود': 4933, 'اینستاگرام': 4934, 'عالیهخیلی': 4935, 'مزایای': 4936, 'تریناست': 4937, 'ماینوکسیدیل': 4938, '۲۴': 4939, 'ساعته': 4940, 'پرایم': 4941, 'هستمپوستم': 4942, 'کمآبه': 4943, 'کمچربی': 4944, 'سنسودای': 4945, 'اپلیکیشن': 4946, 'مغایرت': 4947, 'داردلطفا': 4948, 'رابگذارید': 4949, 'mi': 4950, 'مطرحه': 4951, 'سلامخیلی': 4952, 'میکنمواقعا': 4953, '۳روز': 4954, 'تمومش': 4955, 'دومی': 4956, 'عزیزان': 4957, 'راضیمبرای': 4958, 'پربرکته': 4959, 'پذیریش': 4960, 'تمیزه': 4961, 'پسندیدمش': 4962, 'راضیممن': 4963, 'سرخابیشو': 4964, 'ات': 4965, 'ازنطر': 4966, 'ازسطح': 4967, 'دوحالته': 4968, 'استفقط': 4969, 'العان': 4970, 'بشخصه': 4971, 'قابهایی': 4972, 'میفرسته': 4973, 'نکردیدنظر': 4974, 'نذاریدآدم': 4975, 'گمراه': 4976, 'نکنیدمن': 4977, 'پلی': 4978, 'میدههم': 4979, 'گیرنده': 4980, 'گرفتمبا': 4981, 'وبسته': 4982, 'سوکتهاش': 4983, 'شارژم': 4984, 'دستورالعمل': 4985, 'صیقلی': 4986, 'بدلیل': 4987, 'نگاهی': 4988, 'تمامه': 4989, 'گوشیهای': 4990, 'اندرویدی': 4991, 'لذتش': 4992, 'میبرن': 4993, 'منظقی': 4994, 'آلوده': 4995, 'داشتخیلی': 4996, 'اینولی': 4997, 'دادهم': 4998, 'ریزشش': 4999, 'شدجالبیش': 5000, 'میشهدر': 5001, 'یکسری': 5002, 'ازدوستان': 5003, 'واثرخودشوازدست': 5004, 'میدادواقعا': 5005, 'تاچندساعت': 5006, 'بعدحتی': 5007, 'بعدازشستن': 5008, 'اثررطوبت': 5009, 'ونرمی': 5010, 'رودارهنسبت': 5011, 'وازش': 5012, 'بسیااار': 5013, 'خونده': 5014, 'شکیل': 5015, 'وخورده': 5016, 'قسمتی': 5017, 'پیشانیم': 5018, 'نکروز': 5019, 'گود': 5020, 'واخیلی': 5021, 'زار': 5022, 'نوشت': 5023, 'وسوسه': 5024, 'خداییش': 5025, 'وبعد': 5026, 'اثاری': 5027, 'جزیی': 5028, 'موند': 5029, 'ادامه': 5030, 'ونتیجه': 5031, 'بلکی': 5032, 'بازسازی': 5033, 'باخیال': 5034, 'بکنن': 5035, 'لیف': 5036, 'اسفنجی': 5037, 'محصولاتی': 5038, 'نرمیش': 5039, 'خمیرش': 5040, 'نزدن': 5041, 'نسبتاخوبی': 5042, 'xs': 5043, 'max': 5044, '35': 5045, 'بخرموقتی': 5046, 'میشهیعنی': 5047, 'دقیقس': 5048, 'وبی': 5049, 'کیفیتمث': 5050, 'میکنهبرای': 5051, 'معرض': 5052, 'تیر': 5053, 'گرفتماز': 5054, 'زده_شد': 5055, 'وابرسانی': 5056, 'وخوبی': 5057, 'واصلن': 5058, 'آرژی': 5059, 'دهنم': 5060, 'خمم': 5061, 'کیفم': 5062, 'سرجمع': 5063, 'فنرهای': 5064, 'نخزید': 5065, 'بیخوده': 5066, 'اوردنش': 5067, 'خطو': 5068, 'زیبای': 5069, 'خواصی': 5070, 'قیافشو': 5071, 'عمیقا': 5072, 'عزیزانی': 5073, 'پوستمونو': 5074, 'سوزونده': 5075, 'ماسکی': 5076, 'مرطوبیت': 5077, 'میبینیم': 5078, 'خیییلی': 5079, 'ماندگارشو': 5080, 'خیییییلی': 5081, 'کامان': 5082, 'بودمچیز': 5083, 'رسیدمواقعا': 5084, 'ارزونی': 5085, 'کردمکرمهایی': 5086, 'کلینیک': 5087, 'استیلادرواقعا': 5088, 'جوون': 5089, 'میکنههمیشه': 5090, 'میمونم': 5091, 'میدمنسبت': 5092, 'دارهممنونم': 5093, 'نمیذاره': 5094, 'دارهفقط': 5095, 'hdmiمورد': 5096, 'بدند': 5097, 'هستشفقط': 5098, 'بیسو': 5099, 'موقعیت': 5100, 'هدفون': 5101, 'بخوایم': 5102, 'بخوایین': 5103, 'سینما': 5104, 'کامپیوترتون': 5105, 'باهم': 5106, 'وقتتون': 5107, 'خواندن': 5108, 'مطلب': 5109, 'علتی': 5110, '200': 5111, 'همکارم': 5112, 'پدی': 5113, 'دستبند': 5114, 'ممتازه': 5115, 'اونکه': 5116, 'انداخته_بود': 5117, 'بنسبت': 5118, 'جنتا': 5119, 'میگیری': 5120, 'میمیونه': 5121, 'سترنگ': 5122, 'نماسید': 5123, 'کنیدآب': 5124, 'بارمه': 5125, 'ضدآفتابیه': 5126, 'ترجیح': 5127, 'نخرم': 5128, 'عجیب': 5129, 'غریب': 5130, 'کردمبرای': 5131, 'خوبهموهای': 5132, 'نشداز': 5133, 'اررش': 5134, 'خشن': 5135, 'درحالی': 5136, 'تابحال': 5137, 'تاخیری': 5138, 'مینوشتن': 5139, 'ریزشو': 5140, 'تقریباquot': 5141, 'نظاتم': 5142, 'بشرح': 5143, 'ذیل': 5144, 'خدمتتون': 5145, 'پیداکردن': 5146, 'دیوایس': 5147, 'اپلتون': 5148, 'لایتینگ': 5149, 'اصطلاح': 5150, 'دیگست': 5151, 'واکس': 5152, 'همانطور': 5153, 'تاکید': 5154, 'یاران': 5155, 'وفایش': 5156, 'برجستس': 5157, 'دسترسی': 5158, 'خشش': 5159, 'دوماهه': 5160, 'چشام': 5161, 'بعدشتحملمیکنمو': 5162, 'آفتابو': 5163, 'گرفتمپوست': 5164, 'درمانه': 5165, 'حساسهاین': 5166, 'عالیهتا': 5167, 'تجدیدش': 5168, 'دارهکسانی': 5169, 'oil': 5170, 'free': 5171, 'بودخیلی': 5172, 'خوردانتظارشو': 5173, 'سرکارمنزل': 5174, 'بخودی': 5175, 'افتابها': 5176, 'تنهاش': 5177, 'تجدید': 5178, 'usbهستش': 5179, 'صرفش': 5180, 'لکی': 5181, 'هرچیزه': 5182, 'هستمبه': 5183, 'ذهنیتی': 5184, 'دونی': 5185, 'پریز': 5186, 'بسیارشامپوخوبیه': 5187, 'آرگانش': 5188, 'بقیهی': 5189, 'کنندههای': 5190, 'مالا': 5191, 'شقایق': 5192, 'مانده_بود': 5193, 'بوددر': 5194, 'انگیر': 5195, '48': 5196, 'شبا': 5197, 'نمیخوام': 5198, 'مناسبهیه': 5199, 'جورایی': 5200, 'میدهسریع': 5201, 'بشند': 5202, 'رسیدهکوله': 5203, 'نامناسبه': 5204, '90': 5205, 'گرمیشو': 5206, '125': 5207, 'دستیه': 5208, 'آیفونه': 5209, 'هیچقابی': 5210, 'میمونهخیلی': 5211, 'اسباب': 5212, 'هستس': 5213, 'اطرفیان': 5214, 'پدرم': 5215, 'مصنوعیش': 5216, 'میشهدوقطره': 5217, 'سیک': 5218, 'شناخته': 5219, 'باکیفیتممنون': 5220, '1ماسک': 5221, 'موهابهتره': 5222, 'امایااین': 5223, 'یاشاید1کم': 5224, 'بیشترروش': 5225, 'بذارید1چیزبهترمیشه': 5226, 'دونوبتکم': 5227, 'جرمهایی': 5228, 'دندانهام': 5229, 'کردمش': 5230, 'شدولی': 5231, 'سفیدم': 5232, 'بکنههنوز': 5233, 'بدونم': 5234, 'استفاذه': 5235, 'شیکن': 5236, 'پیدان': 5237, 'سیلیکون': 5238, 'رسیدمن': 5239, 'عالیهجای': 5240, 'موبایلش': 5241, 'تغییرات': 5242, 'ریخت': 5243, 'نمیندازه': 5244, 'آشغال': 5245, 'موهارونرم': 5246, 'براشهای': 5247, 'خوبهعالیهراضیمشکیل': 5248, 'سنگینهجلوه': 5249, 'دارهبخصوص': 5250, 'فاکتور': 5251, 'بزاریم': 5252, 'منعطف': 5253, 'نمیشهشانس': 5254, 'شویندگیش': 5255, 'درگیر': 5256, 'خشبوست': 5257, 'خودی': 5258, 'ارامش': 5259, 'ماندن': 5260, 'عالیع': 5261, 'بخرینبرای': 5262, 'چربو': 5263, 'نکننبرای': 5264, 'فوقالعادست': 5265, 'میگردم': 5266, 'تعریقه': 5267, 'نواحی': 5268, 'پیشونی': 5269, 'سوکتهای': 5270, 'نداشتش': 5271, 'میزارم': 5272, 'ناراحتی': 5273, 'شیش': 5274, 'ورزشکار': 5275, 'تراز': 5276, 'بلوتوثش': 5277, 'درستی': 5278, 'کیغیت': 5279, 'وقیمت': 5280, 'ندارهعالیهممنون': 5281, 'دستگاهای': 5282, 'سالنی': 5283, 'خانگی': 5284, 'یدست': 5285, 'انداخته': 5286, 'نکردنش': 5287, 'خوبهیه': 5288, 'هستیدوامش': 5289, 'چندروزهمن': 5290, 'زدمبرای': 5291, 'اکتیو': 5292, 'خوشکل': 5293, 'وهر': 5294, 'رعایت': 5295, 'نواربهداشتی': 5296, 'عالیهالبته': 5297, 'خریدمولی': 5298, '۶۱': 5299, 'x': 5300, 'پلاس': 5301, 'داده_بود': 5302, 'داشتبا': 5303, 'درمیادکیفیتش': 5304, 'کامنتهای': 5305, 'افتابو': 5306, 'تعریفشو': 5307, 'بیخودترین': 5308, 'افتابی': 5309, 'مهتابی': 5310, 'میزنیبعدم': 5311, 'میری': 5312, 'واب': 5313, 'صورتصورتم': 5314, 'نگم': 5315, 'آیتم': 5316, 'سپاسگزارم': 5317, 'واقها': 5318, 'بادام': 5319, 'فکس': 5320, 'وکف': 5321, 'آلومینیومی': 5322, 'چارج': 5323, 'بیوفته': 5324, 'دربرابر': 5325, 'تنش': 5326, 'احتمالش': 5327, 'حتمان': 5328, 'شامپورو': 5329, 'خریدمشامپوی': 5330, 'خوبیهزردی': 5331, 'مورو': 5332, 'میبرهفقط': 5333, 'سردر': 5334, 'واین': 5335, 'مرتبه': 5336, 'ووافعاازین': 5337, 'متعجبماینکه': 5338, 'گچی': 5339, 'میکنهواقعا': 5340, '8سال': 5341, 'رنگهاش': 5342, 'چسباندم': 5343, 'بندازم': 5344, 'قلبش': 5345, 'ضروری': 5346, 'سرنشینای': 5347, 'انتخابم': 5348, 'کر': 5349, 'فری': 5350, 'کیفیتن': 5351, 'بنجل': 5352, 'والسلام': 5353, 'اوکیه': 5354, 'کردکیفیتشم': 5355, 'جنسهای': 5356, 'تویه': 5357, 'نیستدیجی': 5358, 'امممنون': 5359, 'برسها': 5360, 'نوشتید': 5361, 'نمیزارهو': 5362, 'ملی': 5363, 'عالبه': 5364, 'زیباییش': 5365, 'پرسید': 5366, 'بنا': 5367, 'هخامنش': 5368, 'بالانس': 5369, 'ربوط': 5370, 'سمباده': 5371, 'کاغذی': 5372, 'مقوا': 5373, 'بچسبونید': 5374, 'فوری': 5375, 'بچسبونمش': 5376, 'کتم': 5377, 'پارکینگ': 5378, 'طوریش': 5379, 'ریختین': 5380, 'زیباش': 5381, 'الویز': 5382, 'تافته': 5383, 'لارجش': 5384, 'کوچیکش': 5385, 'پایانی': 5386, 'قاعدگی': 5387, 'طرخش': 5388, 'جذابه': 5389, 'دوستاناین': 5390, 'خیالتونو': 5391, '۳یا۴درصد': 5392, 'ضدعفونی': 5393, 'عفونتهای': 5394, 'مایتهای': 5395, 'سنج': 5396, 'عبوریش': 5397, 'خشی': 5398, 'اسکراباس': 5399, 'دارهرنگ': 5400, 'عم': 5401, 'ممافزم': 5402, 'ببنده': 5403, 'بیشتره': 5404, 'بچهای': 5405, 'زحمتکش': 5406, 'سمتی': 5407, 'کارکردن': 5408, 'گرفتمکلا': 5409, 'بودمموهای': 5410, 'خشکن': 5411, 'داشتخریدش': 5412, 'نشع': 5413, 'مه': 5414, 'شوهرم': 5415, 'ناراحت': 5416, 'چندسال': 5417, 'کنمبعد': 5418, 'سفیدکننده': 5419, 'مؤثره': 5420, 'میفروشه': 5421, 'نیوزیلند': 5422, 'کشورهای': 5423, 'تأثیر': 5424, 'جونم': 5425, 'ترکیب': 5426, 'رویایی': 5427, 'زعفران': 5428, 'دهانشویه': 5429, 'میزاشتم': 5430, 'هفتهای': 5431, 'متسفانه': 5432, 'دنج': 5433, 'تاثیرزیادی': 5434, 'لوسین': 5435, 'ایرانیه': 5436, 'محلولهایی': 5437, 'دادهحداقل': 5438, 'متوحه': 5439, 'شدمممنون': 5440, 'ازینا': 5441, 'جویستیک': 5442, 'یکیشدکمه': 5443, 'جهتای': 5444, 'عالیییه': 5445, 'مینیسک': 5446, 'ساییدگی': 5447, 'زانو': 5448, 'سالن': 5449, 'نخواهید_چون': 5450, 'دستگاههای': 5451, 'دیگرو': 5452, 'کاشتم': 5453, 'هدفم': 5454, 'عالیههههه': 5455, 'چوبش': 5456, 'مسلط': 5457, 'تومان': 5458, 'خریدماز': 5459, 'دارهاثر': 5460, 'نمیمونهدست': 5461, 'نمیکنهخلاصه': 5462, 'توضیح': 5463, 'هستشحتی': 5464, 'ربطی': 5465, 'کاورا': 5466, 'هستفقط': 5467, 'کچولو': 5468, 'موقه': 5469, 'خودشه': 5470, 'نفهمیدم': 5471, 'احساسش': 5472, 'تیوپی': 5473, 'دومیه': 5474, 'میگرم': 5475, '8میل': 5476, 'بهتراز': 5477, 'بیخودیه': 5478, 'دای': 5479, 'خواین': 5480, 'بخاطرش': 5481, 'دخترم': 5482, '۲دقیقه': 5483, 'زحمات': 5484, 'اختلاف': 5485, 'قابه': 5486, 'فروختند': 5487, 'ماکسیمم': 5488, 'گوشت': 5489, 'فنرش': 5490, 'ابزار': 5491, 'میدهتوی': 5492, 'خوبهو': 5493, 'جدب': 5494, 'مقاومی': 5495, 'صورتیکه': 5496, '60': 5497, '70': 5498, 'کلاه': 5499, 'گیس': 5500, 'سرت': 5501, 'گذاشتی': 5502, 'رفتار': 5503, 'بخریدگوشیتون': 5504, 'نزدین': 5505, 'کبودی': 5506, 'همنمیشه': 5507, 'ریموت': 5508, 'پهبادم': 5509, 'خرف': 5510, 'بکسور': 5511, 'متریال': 5512, 'تنهایی': 5513, 'نمیرسونه': 5514, 'شارژرشو': 5515, 'دارهنسبت': 5516, 'zenfone': 5517, 'ze': 5518, '551': 5519, 'مواجه': 5520, 'استفاه': 5521, 'مکس۲': 5522, 'تاثیرخوبی': 5523, 'چهارصد': 5524, 'عالییییییییییی': 5525, 'میسوزونه': 5526, 'قشمت': 5527, 'محکمتر': 5528, '۱۰۰۰': 5529, 'نمیشم': 5530, 'اسکرابو': 5531, 'نوزاد': 5532, 'عروسک': 5533, 'چسبوندن': 5534, 'کودک': 5535, 'زخمی': 5536, 'مانیسا': 5537, 'درستخ': 5538, 'دلار': 5539, 'ونباید': 5540, 'بگذارید': 5541, 'اودین': 5542, 'بنیانگذارای': 5543, 'پرسنل': 5544, 'مراسم': 5545, 'دستای': 5546, 'تپل': 5547, 'گرده': 5548, 'وایمیسه': 5549, 'میخواهید': 5550, 'آسیبهای': 5551, 'احتمالی': 5552, 'بیمه': 5553, 'برسید': 5554, 'نفستون': 5555, 'قصد': 5556, 'توقعی': 5557, 'فتضاحه': 5558, 'اپسیلون': 5559, 'انگارمرطوب': 5560, 'سیگل': 5561, 'بزنیدشرف': 5562, 'افتضاحهاصلا': 5563, 'گندمیه': 5564, 'رنگم': 5565, 'دوامشم': 5566, 'اویدرم': 5567, 'مابع': 5568, 'سیگناله': 5569, 'کندن': 5570, 'بصورتی': 5571, 'پرزهای': 5572, 'مادگی': 5573, 'مونو': 5574, 'حدوده': 5575, 'کشف': 5576, 'شدیدان': 5577, 'اصلان': 5578, 'راض': 5579, 'درخشان': 5580, 'بسزایی': 5581, 'وزر': 5582, 'کاسته_خواهد_شد': 5583, 'صعفی': 5584, 'بیفتن': 5585, 'فلز': 5586, 'اینجوریه': 5587, 'ورق': 5588, 'کندم': 5589, 'فویل': 5590, 'دارمپوست': 5591, 'type_c': 5592, 'نابودی': 5593, 'نجاتشون': 5594, 'تمیزمیکند': 5595, 'جابجاش': 5596, 'شیاری': 5597, 'آهنربایی': 5598, 'بالاستصورتم': 5599, '۳روزه': 5600, 'یدونشم': 5601, 'شاهر': 5602, 'کارای': 5603, 'تاپم': 5604, 'دانشجو': 5605, 'بندازید': 5606, 'نذارید': 5607, 'جیر': 5608, 'دوذم': 5609, 'میار': 5610, 'اس4': 5611, 'lighting': 5612, 'تمیتونه': 5613, 'همراهشون': 5614, 'زمانهایی': 5615, 'بامشخصات': 5616, 'طوا': 5617, 'شدهولی': 5618, '1متربود': 5619, 'فمر': 5620, 'پلاستیکه': 5621, 'خفن': 5622, 'خوبیهخیلی': 5623, 'پرکار': 5624, 'جوهره': 5625, 'بتاریخ': 5626, 'انقضاشون': 5627, 'ساختیه': 5628, 'مرز': 5629, 'ترکیه': 5630, '61': 5631, '58': 5632, 'xr': 5633, 'میچسبه': 5634, 'کاپریس': 5635, 'شگقت': 5636, 'نمیگیرن': 5637, 'توام': 5638, 'گلبهی': 5639, 'عکسی': 5640, 'کیفیتچروک': 5641, 'بودنوع': 5642, 'چونهم': 5643, 'تاالان': 5644, 'میکنمخوبه': 5645, 'درخشنده': 5646, 'پو': 5647, 'چندتای': 5648, 'usb3': 5649, 'آشنایان': 5650, 'ظریفدر': 5651, 'فرانسویه': 5652, 'باعثه': 5653, 'جوشم': 5654, 'ریختی': 5655, 'بنفشش': 5656, 'بخریم': 5657, 'حقیقتش': 5658, 'کفیت': 5659, 'فریم': 5660, 'خوبیهفقط': 5661, 'هندزفریش': 5662, 'اصلاحش': 5663, 'نمیچسبه': 5664, 'چسبه': 5665, 'مادربزرگم': 5666}\n"
          ]
        }
      ]
    },
    {
      "cell_type": "code",
      "source": [
        "vocab_size = len(tokenizer.word_index)+1"
      ],
      "metadata": {
        "id": "5oYiVVAroxDN"
      },
      "execution_count": 25,
      "outputs": []
    },
    {
      "cell_type": "code",
      "source": [
        "vocab_size"
      ],
      "metadata": {
        "colab": {
          "base_uri": "https://localhost:8080/"
        },
        "id": "M84sDf1ZjcgQ",
        "outputId": "303e0256-03ef-449e-f44b-c26a602fccd3"
      },
      "execution_count": 26,
      "outputs": [
        {
          "output_type": "execute_result",
          "data": {
            "text/plain": [
              "5667"
            ]
          },
          "metadata": {},
          "execution_count": 26
        }
      ]
    },
    {
      "cell_type": "code",
      "source": [
        "data = tokenizer.texts_to_sequences(word_tokenized_filtered)"
      ],
      "metadata": {
        "id": "_nStzkv2ERuc"
      },
      "execution_count": 27,
      "outputs": []
    },
    {
      "cell_type": "code",
      "source": [
        "data[0:5]"
      ],
      "metadata": {
        "colab": {
          "base_uri": "https://localhost:8080/"
        },
        "id": "7oA88S_onr9t",
        "outputId": "0f5d0ae5-52dc-4514-9e56-fc06726d2abb"
      },
      "execution_count": 28,
      "outputs": [
        {
          "output_type": "execute_result",
          "data": {
            "text/plain": [
              "[[2234,\n",
              "  39,\n",
              "  76,\n",
              "  1491,\n",
              "  549,\n",
              "  1,\n",
              "  5,\n",
              "  805,\n",
              "  375,\n",
              "  5,\n",
              "  23,\n",
              "  2235,\n",
              "  179,\n",
              "  684,\n",
              "  437,\n",
              "  23,\n",
              "  806,\n",
              "  53,\n",
              "  550,\n",
              "  2236,\n",
              "  14,\n",
              "  478,\n",
              "  113,\n",
              "  59,\n",
              "  1134,\n",
              "  1,\n",
              "  2237,\n",
              "  307,\n",
              "  945,\n",
              "  2238,\n",
              "  479,\n",
              "  1492,\n",
              "  35,\n",
              "  42],\n",
              " [3, 52, 68, 98],\n",
              " [192, 106, 170, 69],\n",
              " [34, 6, 1, 111, 8, 376, 179],\n",
              " [58, 2239, 3, 1493, 1494, 2240, 2241, 27, 2242, 71]]"
            ]
          },
          "metadata": {},
          "execution_count": 28
        }
      ]
    },
    {
      "cell_type": "code",
      "source": [
        "data = pad_sequences(data, maxlen = maxlen)"
      ],
      "metadata": {
        "id": "UoNK7wuxnPmJ"
      },
      "execution_count": 29,
      "outputs": []
    },
    {
      "cell_type": "code",
      "source": [
        "data"
      ],
      "metadata": {
        "colab": {
          "base_uri": "https://localhost:8080/"
        },
        "id": "uVg8SHc5ERxq",
        "outputId": "1fdb3b22-e49c-4f4f-a00f-62ec126334aa"
      },
      "execution_count": 30,
      "outputs": [
        {
          "output_type": "execute_result",
          "data": {
            "text/plain": [
              "array([[   0,    0,    0, ..., 1492,   35,   42],\n",
              "       [   0,    0,    0, ...,   52,   68,   98],\n",
              "       [   0,    0,    0, ...,  106,  170,   69],\n",
              "       ...,\n",
              "       [   0,    0,    0, ..., 1479, 1236,    3],\n",
              "       [   0,    0,    0, ...,    0,    0,    0],\n",
              "       [   0,    0,    0, ...,  857,  718,  146]], dtype=int32)"
            ]
          },
          "metadata": {},
          "execution_count": 30
        }
      ]
    },
    {
      "cell_type": "code",
      "source": [
        "X_train, X_test, y_train, y_test = train_test_split(data, Y, test_size=0.3, random_state=42)"
      ],
      "metadata": {
        "id": "_GIrGyfFER0C"
      },
      "execution_count": 31,
      "outputs": []
    },
    {
      "cell_type": "markdown",
      "source": [
        "**Read Stop-Words**"
      ],
      "metadata": {
        "id": "GC40TVpHDBmv"
      }
    },
    {
      "cell_type": "code",
      "source": [
        "embedding_dim = 50\n",
        "model = Sequential()\n",
        "model.add(Embedding(max_features, embedding_dim, input_length = maxlen))\n",
        "model.add(LSTM(100))\n",
        "model.add(Dense(1, activation='sigmoid'))"
      ],
      "metadata": {
        "id": "JLQKXdoxB-2r"
      },
      "execution_count": 38,
      "outputs": []
    },
    {
      "cell_type": "code",
      "source": [
        "model.compile(optimizer = 'adam', loss = 'binary_crossentropy', metrics = ['accuracy'])"
      ],
      "metadata": {
        "id": "6NtfrPOYnF_B"
      },
      "execution_count": 39,
      "outputs": []
    },
    {
      "cell_type": "code",
      "source": [
        "model.summary()"
      ],
      "metadata": {
        "colab": {
          "base_uri": "https://localhost:8080/"
        },
        "id": "YXowJjg8nKZ-",
        "outputId": "0cfb4078-f119-4950-fbcd-62831e179fc7"
      },
      "execution_count": 40,
      "outputs": [
        {
          "output_type": "stream",
          "name": "stdout",
          "text": [
            "Model: \"sequential_1\"\n",
            "_________________________________________________________________\n",
            " Layer (type)                Output Shape              Param #   \n",
            "=================================================================\n",
            " embedding_1 (Embedding)     (None, 100, 50)           250000    \n",
            "                                                                 \n",
            " lstm_1 (LSTM)               (None, 100)               60400     \n",
            "                                                                 \n",
            " dense_1 (Dense)             (None, 1)                 101       \n",
            "                                                                 \n",
            "=================================================================\n",
            "Total params: 310,501\n",
            "Trainable params: 310,501\n",
            "Non-trainable params: 0\n",
            "_________________________________________________________________\n"
          ]
        }
      ]
    },
    {
      "cell_type": "code",
      "source": [
        "history = model.fit(X_train, y_train, validation_data=(X_test, y_test), epochs=6, batch_size=32)"
      ],
      "metadata": {
        "colab": {
          "base_uri": "https://localhost:8080/"
        },
        "id": "0UFWusccnMP4",
        "outputId": "c742662d-e60b-4000-fd4e-7a7b7909977b"
      },
      "execution_count": 41,
      "outputs": [
        {
          "output_type": "stream",
          "name": "stdout",
          "text": [
            "Epoch 1/6\n",
            "70/70 [==============================] - 9s 106ms/step - loss: 0.5418 - accuracy: 0.7763 - val_loss: 0.4844 - val_accuracy: 0.7885\n",
            "Epoch 2/6\n",
            "70/70 [==============================] - 7s 95ms/step - loss: 0.4166 - accuracy: 0.8089 - val_loss: 0.3783 - val_accuracy: 0.8469\n",
            "Epoch 3/6\n",
            "70/70 [==============================] - 7s 95ms/step - loss: 0.2349 - accuracy: 0.9125 - val_loss: 0.4140 - val_accuracy: 0.8406\n",
            "Epoch 4/6\n",
            "70/70 [==============================] - 7s 96ms/step - loss: 0.1581 - accuracy: 0.9455 - val_loss: 0.4378 - val_accuracy: 0.8156\n",
            "Epoch 5/6\n",
            "70/70 [==============================] - 7s 106ms/step - loss: 0.1076 - accuracy: 0.9625 - val_loss: 0.4419 - val_accuracy: 0.8229\n",
            "Epoch 6/6\n",
            "70/70 [==============================] - 7s 102ms/step - loss: 0.1092 - accuracy: 0.9652 - val_loss: 0.4951 - val_accuracy: 0.8302\n"
          ]
        }
      ]
    },
    {
      "cell_type": "code",
      "source": [
        "scores = model.evaluate(X_test, y_test, verbose=1)\n",
        "print(\"Accuracy: %.2f%%\" % (scores[1]*100))"
      ],
      "metadata": {
        "colab": {
          "base_uri": "https://localhost:8080/"
        },
        "id": "NHkjWp69nbin",
        "outputId": "555ce127-d09d-49aa-bbcc-709f9c11fa6c"
      },
      "execution_count": 43,
      "outputs": [
        {
          "output_type": "stream",
          "name": "stdout",
          "text": [
            "30/30 [==============================] - 1s 26ms/step - loss: 0.4951 - accuracy: 0.8302\n",
            "Accuracy: 83.02%\n"
          ]
        }
      ]
    },
    {
      "cell_type": "code",
      "source": [
        "def plot_graphs(history, string):\n",
        "    pyplot.plot(history.history[string])\n",
        "    pyplot.plot(history.history['val_'+string])\n",
        "    pyplot.xlabel(\"Epochs\")\n",
        "    pyplot.ylabel(string)\n",
        "    pyplot.legend([string, 'val_'+string])\n",
        "    pyplot.show()"
      ],
      "metadata": {
        "id": "uJBhfOvpqx3z"
      },
      "execution_count": 44,
      "outputs": []
    },
    {
      "cell_type": "code",
      "source": [
        "plot_graphs(history, 'accuracy')\n",
        "plot_graphs(history, 'loss')"
      ],
      "metadata": {
        "colab": {
          "base_uri": "https://localhost:8080/",
          "height": 541
        },
        "id": "eDDs-yXvfjsP",
        "outputId": "560d2ba2-339a-4d78-f48c-894de9bb1eb9"
      },
      "execution_count": 45,
      "outputs": [
        {
          "output_type": "display_data",
          "data": {
            "text/plain": [
              "<Figure size 432x288 with 1 Axes>"
            ],
            "image/png": "[encoded data removed]"
          },
          "metadata": {
            "needs_background": "light"
          }
        },
        {
          "output_type": "display_data",
          "data": {
            "text/plain": [
              "<Figure size 432x288 with 1 Axes>"
            ],
            "image/png": "[encoded data removed]"
          },
          "metadata": {
            "needs_background": "light"
          }
        }
      ]
    },
    {
      "cell_type": "code",
      "source": [
        "positive_sentence = \"من تو‌ پیشنهاد ویژه گرفتم. خوب بود\"\n",
        "negative_sentence = \"الیاف این مسواک از کیفیت خوبی برخوردار نبوده و با هر بار مسواک زدن نیز از جای خود کنده میشد\"\n",
        "positive_sentence2 = \"خیلی عالی بود\"\n",
        "negative_sentence2 = \"اصلا پیشنهاد نمیکنم پولتون و بابتش بدید\""
      ],
      "metadata": {
        "id": "EynXCtFImCvC"
      },
      "execution_count": 51,
      "outputs": []
    },
    {
      "cell_type": "code",
      "source": [
        "def prediction(sentence):\n",
        "  data = tokenizer.texts_to_sequences([sentence])\n",
        "  data_pad_sequence = pad_sequences(data, maxlen = maxlen)\n",
        "  perdiction = model.predict(data_pad_sequence)\n",
        "  print(perdiction[0])\n",
        "  if perdiction[0][0] > 0.5:\n",
        "    return \"negative\"\n",
        "  else: \n",
        "    return \"positive\"  "
      ],
      "metadata": {
        "id": "CohFh70wmhl3"
      },
      "execution_count": 52,
      "outputs": []
    },
    {
      "cell_type": "code",
      "source": [
        "prediction(negative_sentence2)"
      ],
      "metadata": {
        "colab": {
          "base_uri": "https://localhost:8080/",
          "height": 72
        },
        "id": "nGXMbQtJm7Lr",
        "outputId": "234eb89f-8281-46e2-f20c-7ff71ba2d700"
      },
      "execution_count": 53,
      "outputs": [
        {
          "output_type": "stream",
          "name": "stdout",
          "text": [
            "1/1 [==============================] - 0s 49ms/step\n",
            "[0.9907173]\n"
          ]
        },
        {
          "output_type": "execute_result",
          "data": {
            "text/plain": [
              "'negative'"
            ],
            "application/vnd.google.colaboratory.intrinsic+json": {
              "type": "string"
            }
          },
          "metadata": {},
          "execution_count": 53
        }
      ]
    },
    {
      "cell_type": "code",
      "source": [],
      "metadata": {
        "id": "56OZ-DyLm9D3"
      },
      "execution_count": null,
      "outputs": []
    }
  ]
}